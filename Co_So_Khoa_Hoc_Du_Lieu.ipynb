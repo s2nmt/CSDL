{
 "cells": [
  {
   "cell_type": "markdown",
   "id": "3f0905bc",
   "metadata": {},
   "source": [
    "# CHAPTER 11\n",
    "\n",
    "## Financial and Economic Data Applications"
   ]
  },
  {
   "cell_type": "code",
   "execution_count": 2,
   "id": "468d05bf",
   "metadata": {},
   "outputs": [],
   "source": [
    "import numpy as np\n",
    "import pandas as pd\n",
    "np.random.seed(12345)\n",
    "import matplotlib.pyplot as plt\n",
    "PREVIOUS_MAX_ROWS = pd.options.display.max_rows\n",
    "pd.options.display.max_rows = 20\n",
    "\n",
    "from IPython.core.interactiveshell import InteractiveShell\n",
    "InteractiveShell.ast_node_interactivity = \"all\"\n",
    "plt.rc('figure', figsize=(10, 6))\n",
    "np.set_printoptions(precision=4, suppress=True)\n",
    "from datetime import datetime"
   ]
  },
  {
   "cell_type": "markdown",
   "id": "999947d2",
   "metadata": {},
   "source": [
    "Sử dụng Python trong ngành tài chính tăng nhanh một cách đáng kể từ năm 2005, chủ\n",
    "yếu là do sự lớn mạnh của các thư viện (như Numpy và Pandas) và kĩ năng sẵn có của\n",
    "các lập trình viên Python chuyên nghiệp. Các tổ chức, cơ quan đã nhận thấy rằng Python\n",
    "rất phù hợp với cả vai trò là một môi trường phân tích tương tác cũng như cho phép các\n",
    "hệ thống mạnh mẽ được phát triển thường xuyên trong một khoảng thời gian ngắn so với\n",
    "Java hoặc C++. Python cũng là một ngôn ngữ lý tưởng để xây dựng giao diện Python\n",
    "cho các thư viện kế thừa được xây dựng trong C hoặc C++.\n",
    "\n",
    "Trong những ví dụ này, tôi sẽ sử dụng thuật ngữ cross-section để chỉ dữ liệu tại một thời\n",
    "điểm cố định. Ví dụ, giá đóng cửa của toàn bộ cổ phiếu của chỉ số S&P 500 vào một\n",
    "ngày cụ thể tạo thành một cross-section. Dữ liệu cross-sectional tại nhiều thời điểm trên\n",
    "nhiều mục dữ liệu (ví dụ như giá cả với khối lượng ) tạo thành một bảng điều khiển. Dữ\n",
    "liệu bảng điều khiển có thành tạo thành bảng ở dưới dạng DataFrame hoặc sử dụng đối\n",
    "tượng pandas Panel ba chiều"
   ]
  },
  {
   "cell_type": "markdown",
   "id": "f048b860",
   "metadata": {},
   "source": [
    "Data Munging Topics"
   ]
  },
  {
   "cell_type": "markdown",
   "id": "94ecb31c",
   "metadata": {},
   "source": [
    "Nhiều công cụ tổng hợp dữ liệu hữu ích cho các ứng dụng tài chính được trải rộng trong\n",
    "các chương trước. Ở đây tôi sẽ nêu nổi bật một số chủ đề vì chúng liên quan đến đề này."
   ]
  },
  {
   "cell_type": "markdown",
   "id": "a2bc388c",
   "metadata": {},
   "source": [
    "## 1.1 Time Series and Cross-Section Alignment"
   ]
  },
  {
   "cell_type": "markdown",
   "id": "014a6234",
   "metadata": {},
   "source": [
    "Một trong những vấn đề tốn nhiều thời gian nhất khi làm việc với dữ liệu tài chính là\n",
    "vấn đề liên kết dữ liệu .Hai chuỗi thời gian liên quan có thể có các chỉ số không phù hợp\n",
    "với nhau, hoặc hai đối tượng DataFrame có thể có các cột hoặc nhãn hàng không khớp.\n",
    "Người dùng MATLAB, R và các ngôn ngữ lập trình ma trận khác thường đầu tư công\n",
    "sức nỗ lực một cách đáng kể vào việc gói dữ liệu thành các dạng được căn chỉnh hoàn\n",
    "hảo. Với kinh nghiệm, phải căn chỉnh dữ liệu bằng tay và tệ hơn là phải xác minh rằng\n",
    "dữ liệu được căn chỉnh) là một cách cứng nhắc và nhàm chán . Nó cũng tiềm ẩn rất nhiều\n",
    "lỗi do kết hợp dữ liệu bị lệch không đồng nhất với nhau.\n",
    "\n",
    "Pandas thực hiện một cách tiếp cận thay thế bằng cách tự động căn chỉnh dữ liệu trong\n",
    "các phép toán số học. Trên thực tế, điều này mang lại sự tự do to lớn và nâng cao năng\n",
    "suất của bạn. Ví dụ: hãy xem xét một vài DataFrames chứa chuỗi thời gian về giá và khối\n",
    "lượng cổ phiếu"
   ]
  },
  {
   "cell_type": "code",
   "execution_count": 3,
   "id": "3d17f504",
   "metadata": {},
   "outputs": [
    {
     "data": {
      "text/plain": [
       "array([[18173500, 15848300, 25416300],\n",
       "       [12492000, 10759700, 23108400],\n",
       "       [14839800, 15551500, 22434800],\n",
       "       [20171900, 17008200, 27969100],\n",
       "       [16697300, 13448200, 26205800]])"
      ]
     },
     "execution_count": 3,
     "metadata": {},
     "output_type": "execute_result"
    }
   ],
   "source": [
    "b = [[379.74,  64.64  , 1165.24,  71.15 ],\n",
    "       [383.93,  65.43, 1198.62 , 73.65],\n",
    "       [384.14,  64.95, 1185.90, 72.82],\n",
    "       [377.48,  63.64,  1154.23,  71.01],\n",
    "       [379.94 ,  63.59 , 1162.27 , 71.84],\n",
    "       [384.62,  63.61 , 1172.87 , 71.65],\n",
    "       [389.30,  63.73,  1188.68,  72.64]]\n",
    "b = np.array(b)\n",
    "c = [[18173500,  15848300 , 25416300],\n",
    "       [12492000, 10759700, 23108400],\n",
    "       [14839800 , 15551500, 22434800],\n",
    "       [20171900, 17008200,  27969100],\n",
    "       [16697300, 13448200 , 26205800 ]]\n",
    "c = np.array(c)\n",
    "c"
   ]
  },
  {
   "cell_type": "code",
   "execution_count": 4,
   "id": "d1b7a4a5",
   "metadata": {},
   "outputs": [],
   "source": [
    "#c =pd.date_range('9/6/2011', periods=7) \n",
    "d = ['2011-09-06','2011-09-07','2011-09-08','2011-09-09','2011-09-12','2011-09-13','2011-09-14']\n",
    "e = ['2011-09-06','2011-09-07','2011-09-08','2011-09-09','2011-09-12']"
   ]
  },
  {
   "cell_type": "code",
   "execution_count": 5,
   "id": "0e013813",
   "metadata": {},
   "outputs": [],
   "source": [
    "prices = pd.DataFrame(b,\n",
    "                     index=d,\n",
    "                     columns=['AAPL', 'JNJ', 'SPX', 'XOM'])\n",
    "volume = pd.DataFrame(c,\n",
    "                     index=e,\n",
    "                     columns=['AAPL', 'JNJ', 'XOM'])"
   ]
  },
  {
   "cell_type": "code",
   "execution_count": 6,
   "id": "a4cc0d46",
   "metadata": {},
   "outputs": [
    {
     "data": {
      "text/html": [
       "<div>\n",
       "<style scoped>\n",
       "    .dataframe tbody tr th:only-of-type {\n",
       "        vertical-align: middle;\n",
       "    }\n",
       "\n",
       "    .dataframe tbody tr th {\n",
       "        vertical-align: top;\n",
       "    }\n",
       "\n",
       "    .dataframe thead th {\n",
       "        text-align: right;\n",
       "    }\n",
       "</style>\n",
       "<table border=\"1\" class=\"dataframe\">\n",
       "  <thead>\n",
       "    <tr style=\"text-align: right;\">\n",
       "      <th></th>\n",
       "      <th>AAPL</th>\n",
       "      <th>JNJ</th>\n",
       "      <th>SPX</th>\n",
       "      <th>XOM</th>\n",
       "    </tr>\n",
       "  </thead>\n",
       "  <tbody>\n",
       "    <tr>\n",
       "      <th>2011-09-06</th>\n",
       "      <td>379.74</td>\n",
       "      <td>64.64</td>\n",
       "      <td>1165.24</td>\n",
       "      <td>71.15</td>\n",
       "    </tr>\n",
       "    <tr>\n",
       "      <th>2011-09-07</th>\n",
       "      <td>383.93</td>\n",
       "      <td>65.43</td>\n",
       "      <td>1198.62</td>\n",
       "      <td>73.65</td>\n",
       "    </tr>\n",
       "    <tr>\n",
       "      <th>2011-09-08</th>\n",
       "      <td>384.14</td>\n",
       "      <td>64.95</td>\n",
       "      <td>1185.90</td>\n",
       "      <td>72.82</td>\n",
       "    </tr>\n",
       "    <tr>\n",
       "      <th>2011-09-09</th>\n",
       "      <td>377.48</td>\n",
       "      <td>63.64</td>\n",
       "      <td>1154.23</td>\n",
       "      <td>71.01</td>\n",
       "    </tr>\n",
       "    <tr>\n",
       "      <th>2011-09-12</th>\n",
       "      <td>379.94</td>\n",
       "      <td>63.59</td>\n",
       "      <td>1162.27</td>\n",
       "      <td>71.84</td>\n",
       "    </tr>\n",
       "    <tr>\n",
       "      <th>2011-09-13</th>\n",
       "      <td>384.62</td>\n",
       "      <td>63.61</td>\n",
       "      <td>1172.87</td>\n",
       "      <td>71.65</td>\n",
       "    </tr>\n",
       "    <tr>\n",
       "      <th>2011-09-14</th>\n",
       "      <td>389.30</td>\n",
       "      <td>63.73</td>\n",
       "      <td>1188.68</td>\n",
       "      <td>72.64</td>\n",
       "    </tr>\n",
       "  </tbody>\n",
       "</table>\n",
       "</div>"
      ],
      "text/plain": [
       "              AAPL    JNJ      SPX    XOM\n",
       "2011-09-06  379.74  64.64  1165.24  71.15\n",
       "2011-09-07  383.93  65.43  1198.62  73.65\n",
       "2011-09-08  384.14  64.95  1185.90  72.82\n",
       "2011-09-09  377.48  63.64  1154.23  71.01\n",
       "2011-09-12  379.94  63.59  1162.27  71.84\n",
       "2011-09-13  384.62  63.61  1172.87  71.65\n",
       "2011-09-14  389.30  63.73  1188.68  72.64"
      ]
     },
     "execution_count": 6,
     "metadata": {},
     "output_type": "execute_result"
    }
   ],
   "source": [
    "prices"
   ]
  },
  {
   "cell_type": "code",
   "execution_count": 7,
   "id": "1e446560",
   "metadata": {},
   "outputs": [
    {
     "data": {
      "text/html": [
       "<div>\n",
       "<style scoped>\n",
       "    .dataframe tbody tr th:only-of-type {\n",
       "        vertical-align: middle;\n",
       "    }\n",
       "\n",
       "    .dataframe tbody tr th {\n",
       "        vertical-align: top;\n",
       "    }\n",
       "\n",
       "    .dataframe thead th {\n",
       "        text-align: right;\n",
       "    }\n",
       "</style>\n",
       "<table border=\"1\" class=\"dataframe\">\n",
       "  <thead>\n",
       "    <tr style=\"text-align: right;\">\n",
       "      <th></th>\n",
       "      <th>AAPL</th>\n",
       "      <th>JNJ</th>\n",
       "      <th>XOM</th>\n",
       "    </tr>\n",
       "  </thead>\n",
       "  <tbody>\n",
       "    <tr>\n",
       "      <th>2011-09-06</th>\n",
       "      <td>18173500</td>\n",
       "      <td>15848300</td>\n",
       "      <td>25416300</td>\n",
       "    </tr>\n",
       "    <tr>\n",
       "      <th>2011-09-07</th>\n",
       "      <td>12492000</td>\n",
       "      <td>10759700</td>\n",
       "      <td>23108400</td>\n",
       "    </tr>\n",
       "    <tr>\n",
       "      <th>2011-09-08</th>\n",
       "      <td>14839800</td>\n",
       "      <td>15551500</td>\n",
       "      <td>22434800</td>\n",
       "    </tr>\n",
       "    <tr>\n",
       "      <th>2011-09-09</th>\n",
       "      <td>20171900</td>\n",
       "      <td>17008200</td>\n",
       "      <td>27969100</td>\n",
       "    </tr>\n",
       "    <tr>\n",
       "      <th>2011-09-12</th>\n",
       "      <td>16697300</td>\n",
       "      <td>13448200</td>\n",
       "      <td>26205800</td>\n",
       "    </tr>\n",
       "  </tbody>\n",
       "</table>\n",
       "</div>"
      ],
      "text/plain": [
       "                AAPL       JNJ       XOM\n",
       "2011-09-06  18173500  15848300  25416300\n",
       "2011-09-07  12492000  10759700  23108400\n",
       "2011-09-08  14839800  15551500  22434800\n",
       "2011-09-09  20171900  17008200  27969100\n",
       "2011-09-12  16697300  13448200  26205800"
      ]
     },
     "execution_count": 7,
     "metadata": {},
     "output_type": "execute_result"
    }
   ],
   "source": [
    "volume"
   ]
  },
  {
   "cell_type": "markdown",
   "id": "c3d12524",
   "metadata": {},
   "source": [
    "Giả sử bạn muốn tính giá trung bình theo khối lượng bằng cách sử dụng tất cả\n",
    "dữ liệu (và đưa ra giả định đơn giản hóa rằng dữ liệu khối lượng là một tập hợp con của\n",
    "dữ liệu giá). Vì pandas căn chỉnh dữ liệu tự động theo số học và loại trừ\n",
    "thiếu dữ liệu trong các hàm như sum, chúng ta có thể diễn đạt điều này một cách ngắn gọn như sau:"
   ]
  },
  {
   "cell_type": "code",
   "execution_count": 8,
   "id": "d9275086",
   "metadata": {},
   "outputs": [
    {
     "data": {
      "text/html": [
       "<div>\n",
       "<style scoped>\n",
       "    .dataframe tbody tr th:only-of-type {\n",
       "        vertical-align: middle;\n",
       "    }\n",
       "\n",
       "    .dataframe tbody tr th {\n",
       "        vertical-align: top;\n",
       "    }\n",
       "\n",
       "    .dataframe thead th {\n",
       "        text-align: right;\n",
       "    }\n",
       "</style>\n",
       "<table border=\"1\" class=\"dataframe\">\n",
       "  <thead>\n",
       "    <tr style=\"text-align: right;\">\n",
       "      <th></th>\n",
       "      <th>AAPL</th>\n",
       "      <th>JNJ</th>\n",
       "      <th>SPX</th>\n",
       "      <th>XOM</th>\n",
       "    </tr>\n",
       "  </thead>\n",
       "  <tbody>\n",
       "    <tr>\n",
       "      <th>2011-09-06</th>\n",
       "      <td>6.901205e+09</td>\n",
       "      <td>1.024434e+09</td>\n",
       "      <td>NaN</td>\n",
       "      <td>1.808370e+09</td>\n",
       "    </tr>\n",
       "    <tr>\n",
       "      <th>2011-09-07</th>\n",
       "      <td>4.796054e+09</td>\n",
       "      <td>7.040072e+08</td>\n",
       "      <td>NaN</td>\n",
       "      <td>1.701934e+09</td>\n",
       "    </tr>\n",
       "    <tr>\n",
       "      <th>2011-09-08</th>\n",
       "      <td>5.700561e+09</td>\n",
       "      <td>1.010070e+09</td>\n",
       "      <td>NaN</td>\n",
       "      <td>1.633702e+09</td>\n",
       "    </tr>\n",
       "    <tr>\n",
       "      <th>2011-09-09</th>\n",
       "      <td>7.614489e+09</td>\n",
       "      <td>1.082402e+09</td>\n",
       "      <td>NaN</td>\n",
       "      <td>1.986086e+09</td>\n",
       "    </tr>\n",
       "    <tr>\n",
       "      <th>2011-09-12</th>\n",
       "      <td>6.343972e+09</td>\n",
       "      <td>8.551710e+08</td>\n",
       "      <td>NaN</td>\n",
       "      <td>1.882625e+09</td>\n",
       "    </tr>\n",
       "    <tr>\n",
       "      <th>2011-09-13</th>\n",
       "      <td>NaN</td>\n",
       "      <td>NaN</td>\n",
       "      <td>NaN</td>\n",
       "      <td>NaN</td>\n",
       "    </tr>\n",
       "    <tr>\n",
       "      <th>2011-09-14</th>\n",
       "      <td>NaN</td>\n",
       "      <td>NaN</td>\n",
       "      <td>NaN</td>\n",
       "      <td>NaN</td>\n",
       "    </tr>\n",
       "  </tbody>\n",
       "</table>\n",
       "</div>"
      ],
      "text/plain": [
       "                    AAPL           JNJ  SPX           XOM\n",
       "2011-09-06  6.901205e+09  1.024434e+09  NaN  1.808370e+09\n",
       "2011-09-07  4.796054e+09  7.040072e+08  NaN  1.701934e+09\n",
       "2011-09-08  5.700561e+09  1.010070e+09  NaN  1.633702e+09\n",
       "2011-09-09  7.614489e+09  1.082402e+09  NaN  1.986086e+09\n",
       "2011-09-12  6.343972e+09  8.551710e+08  NaN  1.882625e+09\n",
       "2011-09-13           NaN           NaN  NaN           NaN\n",
       "2011-09-14           NaN           NaN  NaN           NaN"
      ]
     },
     "execution_count": 8,
     "metadata": {},
     "output_type": "execute_result"
    }
   ],
   "source": [
    "prices*volume"
   ]
  },
  {
   "cell_type": "code",
   "execution_count": 9,
   "id": "38765575",
   "metadata": {},
   "outputs": [],
   "source": [
    "vwap = (prices * volume).sum() / volume.sum()\n"
   ]
  },
  {
   "cell_type": "code",
   "execution_count": 10,
   "id": "ac903f74",
   "metadata": {},
   "outputs": [
    {
     "data": {
      "text/plain": [
       "AAPL    380.655181\n",
       "JNJ      64.394769\n",
       "SPX            NaN\n",
       "XOM      72.024288\n",
       "dtype: float64"
      ]
     },
     "execution_count": 10,
     "metadata": {},
     "output_type": "execute_result"
    }
   ],
   "source": [
    "vwap"
   ]
  },
  {
   "cell_type": "code",
   "execution_count": 11,
   "id": "4d25e92e",
   "metadata": {},
   "outputs": [
    {
     "data": {
      "text/plain": [
       "AAPL    380.655181\n",
       "JNJ      64.394769\n",
       "XOM      72.024288\n",
       "dtype: float64"
      ]
     },
     "execution_count": 11,
     "metadata": {},
     "output_type": "execute_result"
    }
   ],
   "source": [
    "vwap.dropna()   #Xóa phần từ NaN"
   ]
  },
  {
   "cell_type": "markdown",
   "id": "19c2651e",
   "metadata": {},
   "source": [
    "Vì không tìm thấy SPX trong số lượng, bạn có thể chọn loại bỏ nó bất kỳ lúc nào. Nếu\n",
    "bạn muốn căn chỉnh bằng tay, bạn có thể sử dụng phương pháp căn chỉnh của DataFrame,\n",
    "trả về một loạt các phiên bản được lập chỉ mục lại của hai đối tượng:\n"
   ]
  },
  {
   "cell_type": "code",
   "execution_count": 12,
   "id": "4d4b8c43",
   "metadata": {},
   "outputs": [
    {
     "data": {
      "text/plain": [
       "(              AAPL    JNJ    XOM\n",
       " 2011-09-06  379.74  64.64  71.15\n",
       " 2011-09-07  383.93  65.43  73.65\n",
       " 2011-09-08  384.14  64.95  72.82\n",
       " 2011-09-09  377.48  63.64  71.01\n",
       " 2011-09-12  379.94  63.59  71.84,\n",
       "                 AAPL       JNJ       XOM\n",
       " 2011-09-06  18173500  15848300  25416300\n",
       " 2011-09-07  12492000  10759700  23108400\n",
       " 2011-09-08  14839800  15551500  22434800\n",
       " 2011-09-09  20171900  17008200  27969100\n",
       " 2011-09-12  16697300  13448200  26205800)"
      ]
     },
     "execution_count": 12,
     "metadata": {},
     "output_type": "execute_result"
    }
   ],
   "source": [
    "#Căn chỉnh hai đối tượng trên trục của chúng bằng phương thức nối được chỉ định\n",
    "prices.align(volume, join='inner')  \n"
   ]
  },
  {
   "cell_type": "markdown",
   "id": "f4e8c60c",
   "metadata": {},
   "source": [
    "Một tính năng không thể thiếu khác là xây dựng DataFrame từ một tập hợp các Series\n",
    "được lập chỉ mục khác nhau:"
   ]
  },
  {
   "cell_type": "code",
   "execution_count": 13,
   "id": "b03b33b3",
   "metadata": {},
   "outputs": [],
   "source": [
    "s1 = pd.Series(range(3), index=['a', 'b', 'c'])"
   ]
  },
  {
   "cell_type": "code",
   "execution_count": 14,
   "id": "35d87976",
   "metadata": {},
   "outputs": [],
   "source": [
    "s2 = pd.Series(range(4), index=['d', 'b', 'c', 'e'])"
   ]
  },
  {
   "cell_type": "code",
   "execution_count": 15,
   "id": "86617cc4",
   "metadata": {},
   "outputs": [],
   "source": [
    "s3 = pd.Series(range(3), index=['f', 'a', 'c'])"
   ]
  },
  {
   "cell_type": "code",
   "execution_count": 16,
   "id": "fada8cb2",
   "metadata": {},
   "outputs": [
    {
     "data": {
      "text/html": [
       "<div>\n",
       "<style scoped>\n",
       "    .dataframe tbody tr th:only-of-type {\n",
       "        vertical-align: middle;\n",
       "    }\n",
       "\n",
       "    .dataframe tbody tr th {\n",
       "        vertical-align: top;\n",
       "    }\n",
       "\n",
       "    .dataframe thead th {\n",
       "        text-align: right;\n",
       "    }\n",
       "</style>\n",
       "<table border=\"1\" class=\"dataframe\">\n",
       "  <thead>\n",
       "    <tr style=\"text-align: right;\">\n",
       "      <th></th>\n",
       "      <th>one</th>\n",
       "      <th>two</th>\n",
       "      <th>three</th>\n",
       "    </tr>\n",
       "  </thead>\n",
       "  <tbody>\n",
       "    <tr>\n",
       "      <th>a</th>\n",
       "      <td>0.0</td>\n",
       "      <td>NaN</td>\n",
       "      <td>1.0</td>\n",
       "    </tr>\n",
       "    <tr>\n",
       "      <th>b</th>\n",
       "      <td>1.0</td>\n",
       "      <td>1.0</td>\n",
       "      <td>NaN</td>\n",
       "    </tr>\n",
       "    <tr>\n",
       "      <th>c</th>\n",
       "      <td>2.0</td>\n",
       "      <td>2.0</td>\n",
       "      <td>2.0</td>\n",
       "    </tr>\n",
       "    <tr>\n",
       "      <th>d</th>\n",
       "      <td>NaN</td>\n",
       "      <td>0.0</td>\n",
       "      <td>NaN</td>\n",
       "    </tr>\n",
       "    <tr>\n",
       "      <th>e</th>\n",
       "      <td>NaN</td>\n",
       "      <td>3.0</td>\n",
       "      <td>NaN</td>\n",
       "    </tr>\n",
       "    <tr>\n",
       "      <th>f</th>\n",
       "      <td>NaN</td>\n",
       "      <td>NaN</td>\n",
       "      <td>0.0</td>\n",
       "    </tr>\n",
       "  </tbody>\n",
       "</table>\n",
       "</div>"
      ],
      "text/plain": [
       "   one  two  three\n",
       "a  0.0  NaN    1.0\n",
       "b  1.0  1.0    NaN\n",
       "c  2.0  2.0    2.0\n",
       "d  NaN  0.0    NaN\n",
       "e  NaN  3.0    NaN\n",
       "f  NaN  NaN    0.0"
      ]
     },
     "execution_count": 16,
     "metadata": {},
     "output_type": "execute_result"
    }
   ],
   "source": [
    "pd.DataFrame({'one': s1, 'two': s2, 'three': s3})"
   ]
  },
  {
   "cell_type": "markdown",
   "id": "46cdb2ac",
   "metadata": {},
   "source": [
    "Như bạn đã thấy trước đó, tất nhiên bạn có thể chỉ định rõ ràng chỉ mục của kết quả, loại\n",
    "bỏ phần còn lại của dữ liệu:\n"
   ]
  },
  {
   "cell_type": "code",
   "execution_count": 17,
   "id": "ee3c5f07",
   "metadata": {},
   "outputs": [
    {
     "data": {
      "text/html": [
       "<div>\n",
       "<style scoped>\n",
       "    .dataframe tbody tr th:only-of-type {\n",
       "        vertical-align: middle;\n",
       "    }\n",
       "\n",
       "    .dataframe tbody tr th {\n",
       "        vertical-align: top;\n",
       "    }\n",
       "\n",
       "    .dataframe thead th {\n",
       "        text-align: right;\n",
       "    }\n",
       "</style>\n",
       "<table border=\"1\" class=\"dataframe\">\n",
       "  <thead>\n",
       "    <tr style=\"text-align: right;\">\n",
       "      <th></th>\n",
       "      <th>one</th>\n",
       "      <th>two</th>\n",
       "      <th>three</th>\n",
       "    </tr>\n",
       "  </thead>\n",
       "  <tbody>\n",
       "    <tr>\n",
       "      <th>f</th>\n",
       "      <td>NaN</td>\n",
       "      <td>NaN</td>\n",
       "      <td>0.0</td>\n",
       "    </tr>\n",
       "    <tr>\n",
       "      <th>a</th>\n",
       "      <td>0.0</td>\n",
       "      <td>NaN</td>\n",
       "      <td>1.0</td>\n",
       "    </tr>\n",
       "    <tr>\n",
       "      <th>c</th>\n",
       "      <td>2.0</td>\n",
       "      <td>2.0</td>\n",
       "      <td>2.0</td>\n",
       "    </tr>\n",
       "    <tr>\n",
       "      <th>e</th>\n",
       "      <td>NaN</td>\n",
       "      <td>3.0</td>\n",
       "      <td>NaN</td>\n",
       "    </tr>\n",
       "  </tbody>\n",
       "</table>\n",
       "</div>"
      ],
      "text/plain": [
       "   one  two  three\n",
       "f  NaN  NaN    0.0\n",
       "a  0.0  NaN    1.0\n",
       "c  2.0  2.0    2.0\n",
       "e  NaN  3.0    NaN"
      ]
     },
     "execution_count": 17,
     "metadata": {},
     "output_type": "execute_result"
    }
   ],
   "source": [
    "pd.DataFrame({'one': s1, 'two': s2, 'three': s3}, index=list('face'))"
   ]
  },
  {
   "cell_type": "markdown",
   "id": "1dc46160",
   "metadata": {},
   "source": [
    "## 1.2 Operations with Time Series of Different Frequencies\n",
    "\n",
    "(Hoạt động với chuỗi thời gian có tần suất khác nhau)"
   ]
  },
  {
   "cell_type": "markdown",
   "id": "5f6bcc77",
   "metadata": {},
   "source": [
    "Chuỗi thời gian kinh tế thường có tần suất hàng năm, hàng quý, hàng tháng, hàng ngày\n",
    "hoặc một số tần suất chuyên biệt hơn. Một số là hoàn toàn không đều; ví dụ, các bản sửa\n",
    "đổi thu nhập cho một cổ phiếu có thể đến bất kỳ lúc nào. Hai công cụ chính để chuyển\n",
    "đổi tần số và sắp xếp lại là các phương pháp resample và reindex. Với resample giúp\n",
    "chuyển đổi dữ liệu thành tần suất cố định trong khi reindex phù hợp dữ liệu với một chỉ\n",
    "số mới. Cả hai đều hỗ trợ logic nội suy tùy chọn (chẳng hạn như điền chuyển tiếp).\n",
    "\n",
    "Hãy xem xét một chuỗi thời gian nhỏ hàng tuần:"
   ]
  },
  {
   "cell_type": "code",
   "execution_count": 18,
   "id": "49f58aa6",
   "metadata": {},
   "outputs": [],
   "source": [
    "ts1 = pd.Series(np.random.randn(3),\n",
    "index=pd.date_range('2012-6-13', periods=3, freq='W-WED'))\n",
    "\n",
    "#start: Bị ràng buộc trái để tạo ngày tháng.\n",
    "#Period: Số khoảng thời gian cần tạo.\n",
    "#freq: Chuỗi tần số có thể có bội số, ví dụ: ‘5H’. Xem tại đây để biết danh\n",
    "#  sách các bí danh tần suất\n"
   ]
  },
  {
   "cell_type": "code",
   "execution_count": 19,
   "id": "636e9fd5",
   "metadata": {},
   "outputs": [
    {
     "data": {
      "text/plain": [
       "2012-06-13   -0.204708\n",
       "2012-06-20    0.478943\n",
       "2012-06-27   -0.519439\n",
       "Freq: W-WED, dtype: float64"
      ]
     },
     "execution_count": 19,
     "metadata": {},
     "output_type": "execute_result"
    }
   ],
   "source": [
    "ts1"
   ]
  },
  {
   "cell_type": "markdown",
   "id": "7d73a358",
   "metadata": {},
   "source": [
    "Nếu bạn lấy lại mẫu cho tần suất làm việc hàng ngày (Thứ Hai-Thứ Sáu), bạn sẽ gặp vấn\n",
    "đề vào những ngày không có dữ liệu"
   ]
  },
  {
   "cell_type": "code",
   "execution_count": 20,
   "id": "26180414",
   "metadata": {},
   "outputs": [
    {
     "data": {
      "text/plain": [
       "2012-06-13   -0.204708\n",
       "2012-06-14         NaN\n",
       "2012-06-15         NaN\n",
       "2012-06-18         NaN\n",
       "2012-06-19         NaN\n",
       "2012-06-20    0.478943\n",
       "2012-06-21         NaN\n",
       "2012-06-22         NaN\n",
       "2012-06-25         NaN\n",
       "2012-06-26         NaN\n",
       "2012-06-27   -0.519439\n",
       "Freq: B, dtype: float64"
      ]
     },
     "execution_count": 20,
     "metadata": {},
     "output_type": "execute_result"
    }
   ],
   "source": [
    "ts1.resample('B').mean()"
   ]
  },
  {
   "cell_type": "markdown",
   "id": "4fff3d17",
   "metadata": {},
   "source": [
    "Tất nhiên, việc sử dụng ’ffill’ như phương thức fillna sẽ điền các giá trị vào những\n",
    "khoảng trống đó. Đây là một thực tế phổ biến với dữ liệu tần suất thấp hơn khi bạn tính\n",
    "toán một chuỗi thời gian của các giá trị trên mỗi dấu thời gian có giá trị hợp lệ hoặc \"tính\n",
    "đến thời điểm\" mới nhất.\n"
   ]
  },
  {
   "cell_type": "code",
   "execution_count": 21,
   "id": "db1305d2",
   "metadata": {},
   "outputs": [
    {
     "data": {
      "text/plain": [
       "2012-06-13   -0.204708\n",
       "2012-06-14   -0.204708\n",
       "2012-06-15   -0.204708\n",
       "2012-06-18   -0.204708\n",
       "2012-06-19   -0.204708\n",
       "2012-06-20    0.478943\n",
       "2012-06-21    0.478943\n",
       "2012-06-22    0.478943\n",
       "2012-06-25    0.478943\n",
       "2012-06-26    0.478943\n",
       "2012-06-27   -0.519439\n",
       "Freq: B, dtype: float64"
      ]
     },
     "execution_count": 21,
     "metadata": {},
     "output_type": "execute_result"
    }
   ],
   "source": [
    "ts1.resample('B').mean().fillna(method='ffill')"
   ]
  },
  {
   "cell_type": "markdown",
   "id": "e8cb8217",
   "metadata": {},
   "source": [
    "Trên thực tế, việc lấy mẫu dữ liệu tần số thấp hơn lên một tần số cao hơn, thường xuyên\n",
    "là một giải pháp tốt, nhưng trong trường hợp chuỗi thời gian không thường xuyên nói\n",
    "chung, nó có thể không phù hợp. Hãy xem xét một chuỗi thời gian được lấy mẫu bất\n",
    "thường từ cùng một khoảng thời gian chung"
   ]
  },
  {
   "cell_type": "code",
   "execution_count": 22,
   "id": "8101287e",
   "metadata": {},
   "outputs": [],
   "source": [
    "dates = pd.DatetimeIndex(['2012-6-12', '2012-6-17', '2012-6-18',\n",
    "'2012-6-21', '2012-6-22', '2012-6-29'])"
   ]
  },
  {
   "cell_type": "code",
   "execution_count": 23,
   "id": "1aa43991",
   "metadata": {},
   "outputs": [],
   "source": [
    "ts2 = pd.Series(np.random.randn(6), index=dates)\n"
   ]
  },
  {
   "cell_type": "code",
   "execution_count": 24,
   "id": "1510e84c",
   "metadata": {},
   "outputs": [
    {
     "data": {
      "text/plain": [
       "2012-06-12   -0.555730\n",
       "2012-06-17    1.965781\n",
       "2012-06-18    1.393406\n",
       "2012-06-21    0.092908\n",
       "2012-06-22    0.281746\n",
       "2012-06-29    0.769023\n",
       "dtype: float64"
      ]
     },
     "execution_count": 24,
     "metadata": {},
     "output_type": "execute_result"
    }
   ],
   "source": [
    "ts2"
   ]
  },
  {
   "cell_type": "markdown",
   "id": "d29649d3",
   "metadata": {},
   "source": [
    "Nếu bạn muốn thêm các giá trị \"tính đến thời điểm\" trong ts1 forward filling) vào ts2.\n",
    "Một tùy chọn sẽ là lấy mẫu lại cả hai thành tần suất thông thường sau đó thêm vào, nhưng\n",
    "nếu bạn muốn duy trì chỉ số ngày trong ts2, sử dụng reindex là một giải pháp chính xác hơn:\n"
   ]
  },
  {
   "cell_type": "code",
   "execution_count": 25,
   "id": "bb294045",
   "metadata": {},
   "outputs": [
    {
     "data": {
      "text/plain": [
       "2012-06-12         NaN\n",
       "2012-06-17   -0.204708\n",
       "2012-06-18   -0.204708\n",
       "2012-06-21    0.478943\n",
       "2012-06-22    0.478943\n",
       "2012-06-29   -0.519439\n",
       "dtype: float64"
      ]
     },
     "execution_count": 25,
     "metadata": {},
     "output_type": "execute_result"
    }
   ],
   "source": [
    "ts1.reindex(ts2.index, method='ffill')\n"
   ]
  },
  {
   "cell_type": "code",
   "execution_count": 26,
   "id": "82283f2f",
   "metadata": {},
   "outputs": [
    {
     "data": {
      "text/plain": [
       "2012-06-12         NaN\n",
       "2012-06-17    1.761073\n",
       "2012-06-18    1.188698\n",
       "2012-06-21    0.571851\n",
       "2012-06-22    0.760689\n",
       "2012-06-29    0.249584\n",
       "dtype: float64"
      ]
     },
     "execution_count": 26,
     "metadata": {},
     "output_type": "execute_result"
    }
   ],
   "source": [
    "ts2 + ts1.reindex(ts2.index, method='ffill')\n"
   ]
  },
  {
   "cell_type": "markdown",
   "id": "94bfcbe8",
   "metadata": {},
   "source": [
    "Using periods instead of timestamps\n",
    "\n",
    "(Sử dụng khoảng thời gian thay vì dấu thời gian)\n"
   ]
  },
  {
   "cell_type": "markdown",
   "id": "d1cd07ea",
   "metadata": {},
   "source": [
    "Các khoảng thời gian (đại diện cho các khoảng thời gian) cung cấp một phương tiện\n",
    "thay thế để làm việc với các chuỗi thời gian tần suất khác nhau, đặc biệt là các chuỗi thời\n",
    "gian tài chính hoặc kinh tế với tần suất hàng năm hoặc hàng quý có quy ước báo cáo cụ\n",
    "thể. Ví dụ: một công ty có thể công bố thu nhập hàng quý của mình với năm tài chính\n",
    "kết thúc vào tháng 6, do đó có thời hạn miễn phí Q-JUN. Xem xét một cặp chuỗi thời\n",
    "gian kinh tế vĩ mô liên quan đến GDP và lạm phát:"
   ]
  },
  {
   "cell_type": "code",
   "execution_count": 27,
   "id": "23d44e5e",
   "metadata": {},
   "outputs": [],
   "source": [
    "gdp = pd.Series([1.78, 1.94, 2.08, 2.01, 2.15, 2.31, 2.46],\n",
    " index=pd.period_range('1984Q2', periods=7, freq='Q-SEP'))"
   ]
  },
  {
   "cell_type": "code",
   "execution_count": 28,
   "id": "f7bb76c2",
   "metadata": {},
   "outputs": [],
   "source": [
    "infl = pd.Series([0.025, 0.045, 0.037, 0.04],\n",
    "  index=pd.period_range('1982', periods=4, freq='A-DEC'))"
   ]
  },
  {
   "cell_type": "code",
   "execution_count": 29,
   "id": "14b5ba82",
   "metadata": {},
   "outputs": [
    {
     "data": {
      "text/plain": [
       "1984Q2    1.78\n",
       "1984Q3    1.94\n",
       "1984Q4    2.08\n",
       "1985Q1    2.01\n",
       "1985Q2    2.15\n",
       "1985Q3    2.31\n",
       "1985Q4    2.46\n",
       "Freq: Q-SEP, dtype: float64"
      ]
     },
     "execution_count": 29,
     "metadata": {},
     "output_type": "execute_result"
    }
   ],
   "source": [
    "gdp"
   ]
  },
  {
   "cell_type": "code",
   "execution_count": 30,
   "id": "c8adfce2",
   "metadata": {},
   "outputs": [
    {
     "data": {
      "text/plain": [
       "1982    0.025\n",
       "1983    0.045\n",
       "1984    0.037\n",
       "1985    0.040\n",
       "Freq: A-DEC, dtype: float64"
      ]
     },
     "execution_count": 30,
     "metadata": {},
     "output_type": "execute_result"
    }
   ],
   "source": [
    "infl"
   ]
  },
  {
   "cell_type": "markdown",
   "id": "46a89ee2",
   "metadata": {},
   "source": [
    "Không giống như chuỗi thời gian có dấu thời gian, các hoạt động giữa các chuỗi thời\n",
    "gian có tần suất khác nhau được lập chỉ số theo các khoảng thời gian không thể thực hiện\n",
    "được nếu không có các chuyển đổi rõ ràng. Trong trường hợp này, nếu chúng ta biết rằng\n",
    "các giá trị lạm phát đã được quan sát vào cuối mỗi năm, thì chúng ta có thể chuyển đổi\n",
    "sang Q-SEP để có được các khoảng thời gian phù hợp với tần suất đó:\n"
   ]
  },
  {
   "cell_type": "code",
   "execution_count": 31,
   "id": "6495eef2",
   "metadata": {},
   "outputs": [],
   "source": [
    "infl_q = infl.asfreq('Q-SEP', how='end')"
   ]
  },
  {
   "cell_type": "code",
   "execution_count": 32,
   "id": "da55f445",
   "metadata": {},
   "outputs": [
    {
     "data": {
      "text/plain": [
       "1983Q1    0.025\n",
       "1984Q1    0.045\n",
       "1985Q1    0.037\n",
       "1986Q1    0.040\n",
       "Freq: Q-SEP, dtype: float64"
      ]
     },
     "execution_count": 32,
     "metadata": {},
     "output_type": "execute_result"
    }
   ],
   "source": [
    "infl_q\n"
   ]
  },
  {
   "cell_type": "markdown",
   "id": "2e972eba",
   "metadata": {},
   "source": [
    "Chuỗi thời gian đó sau đó có thể được lập chỉ mục lại với tính năng điền chuyển tiếp để\n",
    "khớp với gdp:"
   ]
  },
  {
   "cell_type": "code",
   "execution_count": 33,
   "id": "01923ddd",
   "metadata": {},
   "outputs": [
    {
     "data": {
      "text/plain": [
       "1984Q2    0.045\n",
       "1984Q3    0.045\n",
       "1984Q4    0.045\n",
       "1985Q1    0.037\n",
       "1985Q2    0.037\n",
       "1985Q3    0.037\n",
       "1985Q4    0.037\n",
       "Freq: Q-SEP, dtype: float64"
      ]
     },
     "execution_count": 33,
     "metadata": {},
     "output_type": "execute_result"
    }
   ],
   "source": [
    "infl_q.reindex(gdp.index, method='ffill')"
   ]
  },
  {
   "cell_type": "markdown",
   "id": "fefc24f9",
   "metadata": {},
   "source": [
    "## 1.3 Time of Day and “as of” Data Selection\n",
    "\n",
    "(Thời gian trong ngày và “tính đến thời điểm” Lựa chọn dữ liệu)"
   ]
  },
  {
   "cell_type": "markdown",
   "id": "779f1071",
   "metadata": {},
   "source": [
    "Giả sử bạn có một chuỗi thời gian dài chứa dữ liệu thị trường trong ngày và bạn muốn\n",
    "trích xuất giá tại một thời điểm cụ thể trong ngày vào mỗi ngày của dữ liệu. Điều gì sẽ\n",
    "xảy ra nếu dữ liệu không đều đặn đến mức các quan sát không rơi vào đúng thời gian\n",
    "mong muốn thì sao? Trong thực tế, tác vụ này có thể khiến dữ liệu dễ bị lỗi nếu bạn\n",
    "không cẩn thận. Đây là một ví dụ cho mục đích minh họa:"
   ]
  },
  {
   "cell_type": "code",
   "execution_count": 34,
   "id": "8cdbe156",
   "metadata": {},
   "outputs": [],
   "source": [
    "rng = pd.date_range('2012-06-01 09:30', '2012-06-01 15:59', freq='T')\n"
   ]
  },
  {
   "cell_type": "code",
   "execution_count": 35,
   "id": "c26fa9d3",
   "metadata": {},
   "outputs": [],
   "source": [
    "rng = rng.append([rng + pd.offsets.BDay(i) for i in range(1, 4)])"
   ]
  },
  {
   "cell_type": "code",
   "execution_count": 36,
   "id": "8dca0654",
   "metadata": {},
   "outputs": [],
   "source": [
    "ts = pd.Series(np.arange(len(rng), dtype=float), index=rng)"
   ]
  },
  {
   "cell_type": "code",
   "execution_count": 37,
   "id": "791dff72",
   "metadata": {},
   "outputs": [
    {
     "data": {
      "text/plain": [
       "2012-06-01 09:30:00       0.0\n",
       "2012-06-01 09:31:00       1.0\n",
       "2012-06-01 09:32:00       2.0\n",
       "2012-06-01 09:33:00       3.0\n",
       "2012-06-01 09:34:00       4.0\n",
       "                        ...  \n",
       "2012-06-06 15:55:00    1555.0\n",
       "2012-06-06 15:56:00    1556.0\n",
       "2012-06-06 15:57:00    1557.0\n",
       "2012-06-06 15:58:00    1558.0\n",
       "2012-06-06 15:59:00    1559.0\n",
       "Length: 1560, dtype: float64"
      ]
     },
     "execution_count": 37,
     "metadata": {},
     "output_type": "execute_result"
    }
   ],
   "source": [
    "ts"
   ]
  },
  {
   "cell_type": "markdown",
   "id": "2d530141",
   "metadata": {},
   "source": [
    "Lập chỉ mục với một đối tượng datetime.time trong Python sẽ trích xuất các giá trị tại những thời điểm đó:"
   ]
  },
  {
   "cell_type": "code",
   "execution_count": 38,
   "id": "0c8ca3a4",
   "metadata": {},
   "outputs": [],
   "source": [
    "from datetime import time"
   ]
  },
  {
   "cell_type": "code",
   "execution_count": 39,
   "id": "25758d50",
   "metadata": {},
   "outputs": [
    {
     "data": {
      "text/plain": [
       "2012-06-01 10:00:00      30.0\n",
       "2012-06-04 10:00:00     420.0\n",
       "2012-06-05 10:00:00     810.0\n",
       "2012-06-06 10:00:00    1200.0\n",
       "dtype: float64"
      ]
     },
     "execution_count": 39,
     "metadata": {},
     "output_type": "execute_result"
    }
   ],
   "source": [
    "ts[time(10, 0)]\n"
   ]
  },
  {
   "cell_type": "markdown",
   "id": "d78e8dff",
   "metadata": {},
   "source": [
    "Bên dưới, điều này sử dụng một phương thức cá thể at time (khả dụng trên các chuỗi\n",
    "thời gian riêng lẻ và các đối tượng DataFrame như nhau):"
   ]
  },
  {
   "cell_type": "code",
   "execution_count": 40,
   "id": "04c63e26",
   "metadata": {},
   "outputs": [
    {
     "data": {
      "text/plain": [
       "2012-06-01 10:00:00      30.0\n",
       "2012-06-04 10:00:00     420.0\n",
       "2012-06-05 10:00:00     810.0\n",
       "2012-06-06 10:00:00    1200.0\n",
       "dtype: float64"
      ]
     },
     "execution_count": 40,
     "metadata": {},
     "output_type": "execute_result"
    }
   ],
   "source": [
    "ts.at_time(time(10, 0))"
   ]
  },
  {
   "cell_type": "markdown",
   "id": "69a99d4d",
   "metadata": {},
   "source": [
    "Bạn có thể chọn các giá trị giữa hai thời điểm bằng cách sử dụng phương thức betwee_time có liên quan:"
   ]
  },
  {
   "cell_type": "code",
   "execution_count": 41,
   "id": "54b38e6c",
   "metadata": {},
   "outputs": [
    {
     "data": {
      "text/plain": [
       "2012-06-01 10:00:00      30.0\n",
       "2012-06-01 10:01:00      31.0\n",
       "2012-06-04 10:00:00     420.0\n",
       "2012-06-04 10:01:00     421.0\n",
       "2012-06-05 10:00:00     810.0\n",
       "2012-06-05 10:01:00     811.0\n",
       "2012-06-06 10:00:00    1200.0\n",
       "2012-06-06 10:01:00    1201.0\n",
       "dtype: float64"
      ]
     },
     "execution_count": 41,
     "metadata": {},
     "output_type": "execute_result"
    }
   ],
   "source": [
    "ts.between_time(time(10, 0), time(10, 1))"
   ]
  },
  {
   "cell_type": "markdown",
   "id": "42d55d92",
   "metadata": {},
   "source": [
    "Như đã đề cập ở trên, có thể xảy ra trường hợp không có dữ liệu nào thực sự rơi chính\n",
    "xác vào một thời điểm như 10 giờ sáng, nhưng bạn có thể muốn biết giá trị được biết\n",
    "cuối cùng vào lúc 10 giờ sáng:"
   ]
  },
  {
   "cell_type": "code",
   "execution_count": 42,
   "id": "4ae911d8",
   "metadata": {},
   "outputs": [],
   "source": [
    "indexer = np.sort(np.random.permutation(len(ts))[700:])"
   ]
  },
  {
   "cell_type": "code",
   "execution_count": 43,
   "id": "82993a60",
   "metadata": {},
   "outputs": [],
   "source": [
    "irr_ts = ts.copy()"
   ]
  },
  {
   "cell_type": "code",
   "execution_count": 44,
   "id": "0bff0995",
   "metadata": {},
   "outputs": [],
   "source": [
    "irr_ts[indexer] = np.nan"
   ]
  },
  {
   "cell_type": "code",
   "execution_count": 45,
   "id": "3676ac71",
   "metadata": {},
   "outputs": [
    {
     "data": {
      "text/plain": [
       "2012-06-01 09:50:00    20.0\n",
       "2012-06-01 09:51:00     NaN\n",
       "2012-06-01 09:52:00    22.0\n",
       "2012-06-01 09:53:00     NaN\n",
       "2012-06-01 09:54:00    24.0\n",
       "2012-06-01 09:55:00    25.0\n",
       "2012-06-01 09:56:00    26.0\n",
       "2012-06-01 09:57:00     NaN\n",
       "2012-06-01 09:58:00     NaN\n",
       "2012-06-01 09:59:00    29.0\n",
       "2012-06-01 10:00:00    30.0\n",
       "dtype: float64"
      ]
     },
     "execution_count": 45,
     "metadata": {},
     "output_type": "execute_result"
    }
   ],
   "source": [
    "irr_ts['2012-06-01 09:50':'2012-06-01 10:00']"
   ]
  },
  {
   "cell_type": "markdown",
   "id": "95b6df64",
   "metadata": {},
   "source": [
    "Bằng cách chuyển một mảng dấu thời gian cho phương thức asof, bạn sẽ nhận được một\n",
    "mảng các giá trị hợp lệ cuối cùng (non-NA) tại hoặc trước mỗi dấu thời gian. Vì vậy,\n",
    "chúng tôi tạo phạm vi ngày lúc 10 giờ sáng cho mỗi ngày và chuyển phạm vi đó vào thời\n",
    "điểm:"
   ]
  },
  {
   "cell_type": "code",
   "execution_count": 46,
   "id": "57556a69",
   "metadata": {},
   "outputs": [],
   "source": [
    "selection = pd.date_range('2012-06-01 10:00', periods=4, freq='B')  "
   ]
  },
  {
   "cell_type": "code",
   "execution_count": 47,
   "id": "114e6ad0",
   "metadata": {},
   "outputs": [
    {
     "data": {
      "text/plain": [
       "2012-06-01 10:00:00      30.0\n",
       "2012-06-04 10:00:00     420.0\n",
       "2012-06-05 10:00:00     810.0\n",
       "2012-06-06 10:00:00    1200.0\n",
       "Freq: B, dtype: float64"
      ]
     },
     "execution_count": 47,
     "metadata": {},
     "output_type": "execute_result"
    }
   ],
   "source": [
    "irr_ts.asof(selection)"
   ]
  },
  {
   "cell_type": "markdown",
   "id": "4df26fc4",
   "metadata": {},
   "source": [
    "## 1.4 Splicing Together Data Sources\n",
    "\n",
    "Nối các nguồn dữ liệu với nhau\n"
   ]
  },
  {
   "cell_type": "markdown",
   "id": "5cd233be",
   "metadata": {},
   "source": [
    "Trong trường hợp đầu tiên, chuyển từ tập hợp chuỗi thời gian này sang tập hợp chuỗi\n",
    "thời gian khác tại một thời điểm cụ thể, vấn đề là nối hai đối tượng TimeSeries hoặc\n",
    "DataFrame lại với nhau bằng cách sử dụng pandas.concat:"
   ]
  },
  {
   "cell_type": "code",
   "execution_count": 48,
   "id": "65ac5774",
   "metadata": {},
   "outputs": [],
   "source": [
    "data1 = pd.DataFrame(np.ones((6, 3), dtype=float),\n",
    "  columns=['a', 'b', 'c'],\n",
    " index=pd.date_range('6/12/2012', periods=6))"
   ]
  },
  {
   "cell_type": "code",
   "execution_count": 49,
   "id": "af099319",
   "metadata": {},
   "outputs": [],
   "source": [
    "data2 = pd.DataFrame(np.ones((6, 3), dtype=float)* 2 ,\n",
    "  columns=['a', 'b', 'c'],\n",
    "  index=pd.date_range('6/13/2012', periods=6))\n"
   ]
  },
  {
   "cell_type": "code",
   "execution_count": 50,
   "id": "a395668e",
   "metadata": {},
   "outputs": [],
   "source": [
    "spliced = pd.concat([data1[:'2012-06-14'], data2['2012-06-15':]])"
   ]
  },
  {
   "cell_type": "code",
   "execution_count": 51,
   "id": "dda294a4",
   "metadata": {},
   "outputs": [
    {
     "data": {
      "text/html": [
       "<div>\n",
       "<style scoped>\n",
       "    .dataframe tbody tr th:only-of-type {\n",
       "        vertical-align: middle;\n",
       "    }\n",
       "\n",
       "    .dataframe tbody tr th {\n",
       "        vertical-align: top;\n",
       "    }\n",
       "\n",
       "    .dataframe thead th {\n",
       "        text-align: right;\n",
       "    }\n",
       "</style>\n",
       "<table border=\"1\" class=\"dataframe\">\n",
       "  <thead>\n",
       "    <tr style=\"text-align: right;\">\n",
       "      <th></th>\n",
       "      <th>a</th>\n",
       "      <th>b</th>\n",
       "      <th>c</th>\n",
       "    </tr>\n",
       "  </thead>\n",
       "  <tbody>\n",
       "    <tr>\n",
       "      <th>2012-06-12</th>\n",
       "      <td>1.0</td>\n",
       "      <td>1.0</td>\n",
       "      <td>1.0</td>\n",
       "    </tr>\n",
       "    <tr>\n",
       "      <th>2012-06-13</th>\n",
       "      <td>1.0</td>\n",
       "      <td>1.0</td>\n",
       "      <td>1.0</td>\n",
       "    </tr>\n",
       "    <tr>\n",
       "      <th>2012-06-14</th>\n",
       "      <td>1.0</td>\n",
       "      <td>1.0</td>\n",
       "      <td>1.0</td>\n",
       "    </tr>\n",
       "    <tr>\n",
       "      <th>2012-06-15</th>\n",
       "      <td>2.0</td>\n",
       "      <td>2.0</td>\n",
       "      <td>2.0</td>\n",
       "    </tr>\n",
       "    <tr>\n",
       "      <th>2012-06-16</th>\n",
       "      <td>2.0</td>\n",
       "      <td>2.0</td>\n",
       "      <td>2.0</td>\n",
       "    </tr>\n",
       "    <tr>\n",
       "      <th>2012-06-17</th>\n",
       "      <td>2.0</td>\n",
       "      <td>2.0</td>\n",
       "      <td>2.0</td>\n",
       "    </tr>\n",
       "    <tr>\n",
       "      <th>2012-06-18</th>\n",
       "      <td>2.0</td>\n",
       "      <td>2.0</td>\n",
       "      <td>2.0</td>\n",
       "    </tr>\n",
       "  </tbody>\n",
       "</table>\n",
       "</div>"
      ],
      "text/plain": [
       "              a    b    c\n",
       "2012-06-12  1.0  1.0  1.0\n",
       "2012-06-13  1.0  1.0  1.0\n",
       "2012-06-14  1.0  1.0  1.0\n",
       "2012-06-15  2.0  2.0  2.0\n",
       "2012-06-16  2.0  2.0  2.0\n",
       "2012-06-17  2.0  2.0  2.0\n",
       "2012-06-18  2.0  2.0  2.0"
      ]
     },
     "execution_count": 51,
     "metadata": {},
     "output_type": "execute_result"
    }
   ],
   "source": [
    "spliced"
   ]
  },
  {
   "cell_type": "markdown",
   "id": "f7610c0f",
   "metadata": {},
   "source": [
    "Giả sử trong một ví dụ tương tự rằng data1 thiếu chuỗi thời gian có trong data2:\n"
   ]
  },
  {
   "cell_type": "code",
   "execution_count": 52,
   "id": "88d5ad35",
   "metadata": {},
   "outputs": [],
   "source": [
    "data2 = pd.DataFrame(np.ones((6, 4), dtype=float) * 2,\n",
    "columns=['a', 'b', 'c', 'd'],\n",
    "index=pd.date_range('6/13/2012', periods=6))"
   ]
  },
  {
   "cell_type": "code",
   "execution_count": 53,
   "id": "a4f8bc37",
   "metadata": {},
   "outputs": [],
   "source": [
    "spliced = pd.concat([data1[:'2012-06-14'], data2['2012-06-15':]])"
   ]
  },
  {
   "cell_type": "code",
   "execution_count": 54,
   "id": "6c18f008",
   "metadata": {},
   "outputs": [
    {
     "data": {
      "text/html": [
       "<div>\n",
       "<style scoped>\n",
       "    .dataframe tbody tr th:only-of-type {\n",
       "        vertical-align: middle;\n",
       "    }\n",
       "\n",
       "    .dataframe tbody tr th {\n",
       "        vertical-align: top;\n",
       "    }\n",
       "\n",
       "    .dataframe thead th {\n",
       "        text-align: right;\n",
       "    }\n",
       "</style>\n",
       "<table border=\"1\" class=\"dataframe\">\n",
       "  <thead>\n",
       "    <tr style=\"text-align: right;\">\n",
       "      <th></th>\n",
       "      <th>a</th>\n",
       "      <th>b</th>\n",
       "      <th>c</th>\n",
       "      <th>d</th>\n",
       "    </tr>\n",
       "  </thead>\n",
       "  <tbody>\n",
       "    <tr>\n",
       "      <th>2012-06-12</th>\n",
       "      <td>1.0</td>\n",
       "      <td>1.0</td>\n",
       "      <td>1.0</td>\n",
       "      <td>NaN</td>\n",
       "    </tr>\n",
       "    <tr>\n",
       "      <th>2012-06-13</th>\n",
       "      <td>1.0</td>\n",
       "      <td>1.0</td>\n",
       "      <td>1.0</td>\n",
       "      <td>NaN</td>\n",
       "    </tr>\n",
       "    <tr>\n",
       "      <th>2012-06-14</th>\n",
       "      <td>1.0</td>\n",
       "      <td>1.0</td>\n",
       "      <td>1.0</td>\n",
       "      <td>NaN</td>\n",
       "    </tr>\n",
       "    <tr>\n",
       "      <th>2012-06-15</th>\n",
       "      <td>2.0</td>\n",
       "      <td>2.0</td>\n",
       "      <td>2.0</td>\n",
       "      <td>2.0</td>\n",
       "    </tr>\n",
       "    <tr>\n",
       "      <th>2012-06-16</th>\n",
       "      <td>2.0</td>\n",
       "      <td>2.0</td>\n",
       "      <td>2.0</td>\n",
       "      <td>2.0</td>\n",
       "    </tr>\n",
       "    <tr>\n",
       "      <th>2012-06-17</th>\n",
       "      <td>2.0</td>\n",
       "      <td>2.0</td>\n",
       "      <td>2.0</td>\n",
       "      <td>2.0</td>\n",
       "    </tr>\n",
       "    <tr>\n",
       "      <th>2012-06-18</th>\n",
       "      <td>2.0</td>\n",
       "      <td>2.0</td>\n",
       "      <td>2.0</td>\n",
       "      <td>2.0</td>\n",
       "    </tr>\n",
       "  </tbody>\n",
       "</table>\n",
       "</div>"
      ],
      "text/plain": [
       "              a    b    c    d\n",
       "2012-06-12  1.0  1.0  1.0  NaN\n",
       "2012-06-13  1.0  1.0  1.0  NaN\n",
       "2012-06-14  1.0  1.0  1.0  NaN\n",
       "2012-06-15  2.0  2.0  2.0  2.0\n",
       "2012-06-16  2.0  2.0  2.0  2.0\n",
       "2012-06-17  2.0  2.0  2.0  2.0\n",
       "2012-06-18  2.0  2.0  2.0  2.0"
      ]
     },
     "execution_count": 54,
     "metadata": {},
     "output_type": "execute_result"
    }
   ],
   "source": [
    "spliced"
   ]
  },
  {
   "cell_type": "markdown",
   "id": "88545fd8",
   "metadata": {},
   "source": [
    "Sử dụng combine_first, bạn có thể nhập dữ liệu từ trước điểm nối để mở rộng cho mục\n",
    "’d’:"
   ]
  },
  {
   "cell_type": "code",
   "execution_count": 55,
   "id": "7235843a",
   "metadata": {},
   "outputs": [],
   "source": [
    "spliced_filled = spliced.combine_first(data2)"
   ]
  },
  {
   "cell_type": "code",
   "execution_count": 56,
   "id": "0c7e5286",
   "metadata": {},
   "outputs": [
    {
     "data": {
      "text/html": [
       "<div>\n",
       "<style scoped>\n",
       "    .dataframe tbody tr th:only-of-type {\n",
       "        vertical-align: middle;\n",
       "    }\n",
       "\n",
       "    .dataframe tbody tr th {\n",
       "        vertical-align: top;\n",
       "    }\n",
       "\n",
       "    .dataframe thead th {\n",
       "        text-align: right;\n",
       "    }\n",
       "</style>\n",
       "<table border=\"1\" class=\"dataframe\">\n",
       "  <thead>\n",
       "    <tr style=\"text-align: right;\">\n",
       "      <th></th>\n",
       "      <th>a</th>\n",
       "      <th>b</th>\n",
       "      <th>c</th>\n",
       "      <th>d</th>\n",
       "    </tr>\n",
       "  </thead>\n",
       "  <tbody>\n",
       "    <tr>\n",
       "      <th>2012-06-12</th>\n",
       "      <td>1.0</td>\n",
       "      <td>1.0</td>\n",
       "      <td>1.0</td>\n",
       "      <td>NaN</td>\n",
       "    </tr>\n",
       "    <tr>\n",
       "      <th>2012-06-13</th>\n",
       "      <td>1.0</td>\n",
       "      <td>1.0</td>\n",
       "      <td>1.0</td>\n",
       "      <td>2.0</td>\n",
       "    </tr>\n",
       "    <tr>\n",
       "      <th>2012-06-14</th>\n",
       "      <td>1.0</td>\n",
       "      <td>1.0</td>\n",
       "      <td>1.0</td>\n",
       "      <td>2.0</td>\n",
       "    </tr>\n",
       "    <tr>\n",
       "      <th>2012-06-15</th>\n",
       "      <td>2.0</td>\n",
       "      <td>2.0</td>\n",
       "      <td>2.0</td>\n",
       "      <td>2.0</td>\n",
       "    </tr>\n",
       "    <tr>\n",
       "      <th>2012-06-16</th>\n",
       "      <td>2.0</td>\n",
       "      <td>2.0</td>\n",
       "      <td>2.0</td>\n",
       "      <td>2.0</td>\n",
       "    </tr>\n",
       "    <tr>\n",
       "      <th>2012-06-17</th>\n",
       "      <td>2.0</td>\n",
       "      <td>2.0</td>\n",
       "      <td>2.0</td>\n",
       "      <td>2.0</td>\n",
       "    </tr>\n",
       "    <tr>\n",
       "      <th>2012-06-18</th>\n",
       "      <td>2.0</td>\n",
       "      <td>2.0</td>\n",
       "      <td>2.0</td>\n",
       "      <td>2.0</td>\n",
       "    </tr>\n",
       "  </tbody>\n",
       "</table>\n",
       "</div>"
      ],
      "text/plain": [
       "              a    b    c    d\n",
       "2012-06-12  1.0  1.0  1.0  NaN\n",
       "2012-06-13  1.0  1.0  1.0  2.0\n",
       "2012-06-14  1.0  1.0  1.0  2.0\n",
       "2012-06-15  2.0  2.0  2.0  2.0\n",
       "2012-06-16  2.0  2.0  2.0  2.0\n",
       "2012-06-17  2.0  2.0  2.0  2.0\n",
       "2012-06-18  2.0  2.0  2.0  2.0"
      ]
     },
     "execution_count": 56,
     "metadata": {},
     "output_type": "execute_result"
    }
   ],
   "source": [
    "spliced_filled\n"
   ]
  },
  {
   "cell_type": "markdown",
   "id": "6b8e4684",
   "metadata": {},
   "source": [
    "Vì data2 không có bất kỳ giá trị nào cho 2012-06-12, nên không có giá trị nào được\n",
    "điền vào ngày đó.\n",
    "\n",
    "DataFrame có bản cập nhật phương pháp liên quan để thực hiện cập nhật tại chỗ. Bạn\n",
    "phải vượt qua overwrite = False để làm cho nó chỉ lấp đầy các lỗ:"
   ]
  },
  {
   "cell_type": "code",
   "execution_count": 57,
   "id": "f8478257",
   "metadata": {},
   "outputs": [],
   "source": [
    "spliced.update(data2, overwrite=False)"
   ]
  },
  {
   "cell_type": "code",
   "execution_count": 58,
   "id": "fb7e1e4d",
   "metadata": {},
   "outputs": [
    {
     "data": {
      "text/html": [
       "<div>\n",
       "<style scoped>\n",
       "    .dataframe tbody tr th:only-of-type {\n",
       "        vertical-align: middle;\n",
       "    }\n",
       "\n",
       "    .dataframe tbody tr th {\n",
       "        vertical-align: top;\n",
       "    }\n",
       "\n",
       "    .dataframe thead th {\n",
       "        text-align: right;\n",
       "    }\n",
       "</style>\n",
       "<table border=\"1\" class=\"dataframe\">\n",
       "  <thead>\n",
       "    <tr style=\"text-align: right;\">\n",
       "      <th></th>\n",
       "      <th>a</th>\n",
       "      <th>b</th>\n",
       "      <th>c</th>\n",
       "      <th>d</th>\n",
       "    </tr>\n",
       "  </thead>\n",
       "  <tbody>\n",
       "    <tr>\n",
       "      <th>2012-06-12</th>\n",
       "      <td>1.0</td>\n",
       "      <td>1.0</td>\n",
       "      <td>1.0</td>\n",
       "      <td>NaN</td>\n",
       "    </tr>\n",
       "    <tr>\n",
       "      <th>2012-06-13</th>\n",
       "      <td>1.0</td>\n",
       "      <td>1.0</td>\n",
       "      <td>1.0</td>\n",
       "      <td>2.0</td>\n",
       "    </tr>\n",
       "    <tr>\n",
       "      <th>2012-06-14</th>\n",
       "      <td>1.0</td>\n",
       "      <td>1.0</td>\n",
       "      <td>1.0</td>\n",
       "      <td>2.0</td>\n",
       "    </tr>\n",
       "    <tr>\n",
       "      <th>2012-06-15</th>\n",
       "      <td>2.0</td>\n",
       "      <td>2.0</td>\n",
       "      <td>2.0</td>\n",
       "      <td>2.0</td>\n",
       "    </tr>\n",
       "    <tr>\n",
       "      <th>2012-06-16</th>\n",
       "      <td>2.0</td>\n",
       "      <td>2.0</td>\n",
       "      <td>2.0</td>\n",
       "      <td>2.0</td>\n",
       "    </tr>\n",
       "    <tr>\n",
       "      <th>2012-06-17</th>\n",
       "      <td>2.0</td>\n",
       "      <td>2.0</td>\n",
       "      <td>2.0</td>\n",
       "      <td>2.0</td>\n",
       "    </tr>\n",
       "    <tr>\n",
       "      <th>2012-06-18</th>\n",
       "      <td>2.0</td>\n",
       "      <td>2.0</td>\n",
       "      <td>2.0</td>\n",
       "      <td>2.0</td>\n",
       "    </tr>\n",
       "  </tbody>\n",
       "</table>\n",
       "</div>"
      ],
      "text/plain": [
       "              a    b    c    d\n",
       "2012-06-12  1.0  1.0  1.0  NaN\n",
       "2012-06-13  1.0  1.0  1.0  2.0\n",
       "2012-06-14  1.0  1.0  1.0  2.0\n",
       "2012-06-15  2.0  2.0  2.0  2.0\n",
       "2012-06-16  2.0  2.0  2.0  2.0\n",
       "2012-06-17  2.0  2.0  2.0  2.0\n",
       "2012-06-18  2.0  2.0  2.0  2.0"
      ]
     },
     "execution_count": 58,
     "metadata": {},
     "output_type": "execute_result"
    }
   ],
   "source": [
    "spliced"
   ]
  },
  {
   "cell_type": "markdown",
   "id": "b5ab00c7",
   "metadata": {},
   "source": [
    "Để thay thế dữ liệu cho một tập hợp con các ký hiệu, bạn có thể sử dụng bất kỳ kỹ thuật\n",
    "nào ở trên, nhưng đôi khi đơn giản hơn chỉ cần đặt các cột trực tiếp bằng lập chỉ mục\n",
    "DataFrame:\n"
   ]
  },
  {
   "cell_type": "code",
   "execution_count": 59,
   "id": "c503b033",
   "metadata": {},
   "outputs": [],
   "source": [
    "cp_spliced = spliced.copy()\n"
   ]
  },
  {
   "cell_type": "code",
   "execution_count": 60,
   "id": "3ad6ddd6",
   "metadata": {},
   "outputs": [],
   "source": [
    "cp_spliced[['a', 'c']] = data1[['a', 'c']]\n"
   ]
  },
  {
   "cell_type": "code",
   "execution_count": 61,
   "id": "28e9ac40",
   "metadata": {},
   "outputs": [
    {
     "data": {
      "text/html": [
       "<div>\n",
       "<style scoped>\n",
       "    .dataframe tbody tr th:only-of-type {\n",
       "        vertical-align: middle;\n",
       "    }\n",
       "\n",
       "    .dataframe tbody tr th {\n",
       "        vertical-align: top;\n",
       "    }\n",
       "\n",
       "    .dataframe thead th {\n",
       "        text-align: right;\n",
       "    }\n",
       "</style>\n",
       "<table border=\"1\" class=\"dataframe\">\n",
       "  <thead>\n",
       "    <tr style=\"text-align: right;\">\n",
       "      <th></th>\n",
       "      <th>a</th>\n",
       "      <th>b</th>\n",
       "      <th>c</th>\n",
       "      <th>d</th>\n",
       "    </tr>\n",
       "  </thead>\n",
       "  <tbody>\n",
       "    <tr>\n",
       "      <th>2012-06-12</th>\n",
       "      <td>1.0</td>\n",
       "      <td>1.0</td>\n",
       "      <td>1.0</td>\n",
       "      <td>NaN</td>\n",
       "    </tr>\n",
       "    <tr>\n",
       "      <th>2012-06-13</th>\n",
       "      <td>1.0</td>\n",
       "      <td>1.0</td>\n",
       "      <td>1.0</td>\n",
       "      <td>2.0</td>\n",
       "    </tr>\n",
       "    <tr>\n",
       "      <th>2012-06-14</th>\n",
       "      <td>1.0</td>\n",
       "      <td>1.0</td>\n",
       "      <td>1.0</td>\n",
       "      <td>2.0</td>\n",
       "    </tr>\n",
       "    <tr>\n",
       "      <th>2012-06-15</th>\n",
       "      <td>1.0</td>\n",
       "      <td>2.0</td>\n",
       "      <td>1.0</td>\n",
       "      <td>2.0</td>\n",
       "    </tr>\n",
       "    <tr>\n",
       "      <th>2012-06-16</th>\n",
       "      <td>1.0</td>\n",
       "      <td>2.0</td>\n",
       "      <td>1.0</td>\n",
       "      <td>2.0</td>\n",
       "    </tr>\n",
       "    <tr>\n",
       "      <th>2012-06-17</th>\n",
       "      <td>1.0</td>\n",
       "      <td>2.0</td>\n",
       "      <td>1.0</td>\n",
       "      <td>2.0</td>\n",
       "    </tr>\n",
       "    <tr>\n",
       "      <th>2012-06-18</th>\n",
       "      <td>NaN</td>\n",
       "      <td>2.0</td>\n",
       "      <td>NaN</td>\n",
       "      <td>2.0</td>\n",
       "    </tr>\n",
       "  </tbody>\n",
       "</table>\n",
       "</div>"
      ],
      "text/plain": [
       "              a    b    c    d\n",
       "2012-06-12  1.0  1.0  1.0  NaN\n",
       "2012-06-13  1.0  1.0  1.0  2.0\n",
       "2012-06-14  1.0  1.0  1.0  2.0\n",
       "2012-06-15  1.0  2.0  1.0  2.0\n",
       "2012-06-16  1.0  2.0  1.0  2.0\n",
       "2012-06-17  1.0  2.0  1.0  2.0\n",
       "2012-06-18  NaN  2.0  NaN  2.0"
      ]
     },
     "execution_count": 61,
     "metadata": {},
     "output_type": "execute_result"
    }
   ],
   "source": [
    "cp_spliced"
   ]
  },
  {
   "cell_type": "markdown",
   "id": "6ff94423",
   "metadata": {},
   "source": [
    "## 1.5 Return Indexes and Cumulative Returns\n",
    "\n",
    "Chỉ mục trả lại và lợi nhuận tích lũy"
   ]
  },
  {
   "cell_type": "markdown",
   "id": "c979f0f2",
   "metadata": {},
   "source": [
    "Trong bối cảnh tài chính, lợi nhuận thường đề cập đến phần trăm thay đổi trong giá của\n",
    "một tài sản. Hãy xem xét dữ liệu giá của Apple trong năm 2011 và 2022:"
   ]
  },
  {
   "cell_type": "code",
   "execution_count": 62,
   "id": "91cbf083",
   "metadata": {},
   "outputs": [
    {
     "name": "stdout",
     "output_type": "stream",
     "text": [
      "Requirement already satisfied: pandas_datareader in c:\\users\\admin\\anaconda3\\lib\\site-packages (0.10.0)\n",
      "Requirement already satisfied: pandas>=0.23 in c:\\users\\admin\\anaconda3\\lib\\site-packages (from pandas_datareader) (1.5.1)\n",
      "Requirement already satisfied: lxml in c:\\users\\admin\\anaconda3\\lib\\site-packages (from pandas_datareader) (4.8.0)\n",
      "Requirement already satisfied: requests>=2.19.0 in c:\\users\\admin\\anaconda3\\lib\\site-packages (from pandas_datareader) (2.27.1)\n",
      "Requirement already satisfied: pytz>=2020.1 in c:\\users\\admin\\anaconda3\\lib\\site-packages (from pandas>=0.23->pandas_datareader) (2021.3)\n",
      "Requirement already satisfied: numpy>=1.20.3 in c:\\users\\admin\\anaconda3\\lib\\site-packages (from pandas>=0.23->pandas_datareader) (1.21.5)\n",
      "Requirement already satisfied: python-dateutil>=2.8.1 in c:\\users\\admin\\anaconda3\\lib\\site-packages (from pandas>=0.23->pandas_datareader) (2.8.2)\n",
      "Requirement already satisfied: six>=1.5 in c:\\users\\admin\\anaconda3\\lib\\site-packages (from python-dateutil>=2.8.1->pandas>=0.23->pandas_datareader) (1.16.0)\n",
      "Requirement already satisfied: idna<4,>=2.5 in c:\\users\\admin\\anaconda3\\lib\\site-packages (from requests>=2.19.0->pandas_datareader) (3.3)\n",
      "Requirement already satisfied: urllib3<1.27,>=1.21.1 in c:\\users\\admin\\anaconda3\\lib\\site-packages (from requests>=2.19.0->pandas_datareader) (1.26.9)\n",
      "Requirement already satisfied: certifi>=2017.4.17 in c:\\users\\admin\\anaconda3\\lib\\site-packages (from requests>=2.19.0->pandas_datareader) (2021.10.8)\n",
      "Requirement already satisfied: charset-normalizer~=2.0.0 in c:\\users\\admin\\anaconda3\\lib\\site-packages (from requests>=2.19.0->pandas_datareader) (2.0.4)\n",
      "Note: you may need to restart the kernel to use updated packages.\n"
     ]
    },
    {
     "name": "stderr",
     "output_type": "stream",
     "text": [
      "WARNING: Ignoring invalid distribution -andas (c:\\users\\admin\\anaconda3\\lib\\site-packages)\n",
      "WARNING: Ignoring invalid distribution -andas (c:\\users\\admin\\anaconda3\\lib\\site-packages)\n",
      "WARNING: Ignoring invalid distribution -andas (c:\\users\\admin\\anaconda3\\lib\\site-packages)\n",
      "WARNING: Ignoring invalid distribution -andas (c:\\users\\admin\\anaconda3\\lib\\site-packages)\n",
      "WARNING: Ignoring invalid distribution -andas (c:\\users\\admin\\anaconda3\\lib\\site-packages)\n",
      "WARNING: Ignoring invalid distribution -andas (c:\\users\\admin\\anaconda3\\lib\\site-packages)\n"
     ]
    }
   ],
   "source": [
    "pip install pandas_datareader"
   ]
  },
  {
   "cell_type": "code",
   "execution_count": 63,
   "id": "70c19bf3",
   "metadata": {},
   "outputs": [],
   "source": [
    "import pandas_datareader"
   ]
  },
  {
   "cell_type": "code",
   "execution_count": 64,
   "id": "b439dcec",
   "metadata": {},
   "outputs": [],
   "source": [
    "from pandas_datareader import data\n",
    "prices=data.DataReader('AAPL','yahoo','2011-01-01')['Adj Close']"
   ]
  },
  {
   "cell_type": "code",
   "execution_count": 65,
   "id": "03a5c9f9",
   "metadata": {},
   "outputs": [
    {
     "data": {
      "text/plain": [
       "Date\n",
       "2022-11-14    148.279999\n",
       "2022-11-15    150.039993\n",
       "2022-11-16    148.789993\n",
       "2022-11-17    150.720001\n",
       "2022-11-18    151.289993\n",
       "Name: Adj Close, dtype: float64"
      ]
     },
     "execution_count": 65,
     "metadata": {},
     "output_type": "execute_result"
    }
   ],
   "source": [
    "prices[-5:]"
   ]
  },
  {
   "cell_type": "markdown",
   "id": "5c6b6ca0",
   "metadata": {},
   "source": [
    "Với Apple, công ty không có cổ tức, việc tính toán tỷ lệ hoàn vốn tích lũy giữa hai thời\n",
    "điểm chỉ yêu cầu tính toán phần trăm thay đổi trong giá:\n"
   ]
  },
  {
   "cell_type": "code",
   "execution_count": 66,
   "id": "1c35d683",
   "metadata": {},
   "outputs": [
    {
     "data": {
      "text/plain": [
       "0.021732150681994078"
      ]
     },
     "execution_count": 66,
     "metadata": {},
     "output_type": "execute_result"
    }
   ],
   "source": [
    "prices[1]/prices[0] - 1"
   ]
  },
  {
   "cell_type": "markdown",
   "id": "28f21e3d",
   "metadata": {},
   "source": [
    "Với các cổ phiếu khác có chi trả cổ tức, việc tính toán số tiền bạn kiếm được từ việc nắm\n",
    "giữ một cổ phiếu có thể phức tạp hơn. Tuy nhiên, các giá trị đóng được điều chỉnh được\n",
    "sử dụng ở đây đã được điều chỉnh cho các khoản chia tách và cổ tức. Trong mọi trường\n",
    "hợp, việc lấy chỉ số hoàn vốn là một chuỗi thời gian cho biết giá trị của một khoản đầu tư\n",
    "đơn vị (một đô la chẳng hạn) là điều khá phổ biến. Nhiều giả định có thể làm cơ sở cho\n",
    "chỉ số trả về. Ví dụ, một số sẽ chọn tái đầu tư lợi nhuận và những người khác thì không.\n",
    "Trong trường hợp của Apple, chúng ta có thể tính toán một chỉ số trả về đơn giản bằng\n",
    "cách sử dụng cumprod:\n"
   ]
  },
  {
   "cell_type": "code",
   "execution_count": 67,
   "id": "8b82f599",
   "metadata": {},
   "outputs": [],
   "source": [
    "#Phần trăm thay đổi giữa phần tử hiện tại và phần tử trước đó.\n",
    "returns = prices.pct_change()"
   ]
  },
  {
   "cell_type": "code",
   "execution_count": 68,
   "id": "4797f4b5",
   "metadata": {},
   "outputs": [],
   "source": [
    "ret_index = (1 + returns).cumprod()"
   ]
  },
  {
   "cell_type": "code",
   "execution_count": 69,
   "id": "656325b2",
   "metadata": {},
   "outputs": [],
   "source": [
    "ret_index[0] = 1 # Set first value to 1"
   ]
  },
  {
   "cell_type": "code",
   "execution_count": 70,
   "id": "4ce75028",
   "metadata": {},
   "outputs": [
    {
     "data": {
      "text/plain": [
       "Date\n",
       "2010-12-31     1.000000\n",
       "2011-01-03     1.021732\n",
       "2011-01-04     1.027065\n",
       "2011-01-05     1.035466\n",
       "2011-01-06     1.034629\n",
       "                ...    \n",
       "2022-11-14    15.100020\n",
       "2022-11-15    15.279248\n",
       "2022-11-16    15.151955\n",
       "2022-11-17    15.348496\n",
       "2022-11-18    15.406541\n",
       "Name: Adj Close, Length: 2993, dtype: float64"
      ]
     },
     "execution_count": 70,
     "metadata": {},
     "output_type": "execute_result"
    }
   ],
   "source": [
    "ret_index"
   ]
  },
  {
   "cell_type": "markdown",
   "id": "9fb3e8db",
   "metadata": {},
   "source": [
    "Với một số chỉ số trả lại, việc tính toán lợi nhuận tích lũy tại một giải pháp cụ thể trở\n",
    "nên đơn giản:"
   ]
  },
  {
   "cell_type": "code",
   "execution_count": 71,
   "id": "4af703e1",
   "metadata": {},
   "outputs": [],
   "source": [
    "m_returns = ret_index.resample('M').mean()"
   ]
  },
  {
   "cell_type": "code",
   "execution_count": 72,
   "id": "c65fd700",
   "metadata": {},
   "outputs": [
    {
     "data": {
      "text/plain": [
       "Date\n",
       "2012-01-31    1.328677\n",
       "2012-02-29    1.542569\n",
       "2012-03-31    1.790388\n",
       "2012-04-30    1.878729\n",
       "2012-05-31    1.750599\n",
       "2012-06-30    1.781257\n",
       "2012-07-31    1.863430\n",
       "2012-08-31    1.998902\n",
       "2012-09-30    2.122069\n",
       "2012-10-31    1.976188\n",
       "2012-11-30    1.763535\n",
       "2012-12-31    1.664124\n",
       "Freq: M, Name: Adj Close, dtype: float64"
      ]
     },
     "execution_count": 72,
     "metadata": {},
     "output_type": "execute_result"
    }
   ],
   "source": [
    "m_returns['2012']"
   ]
  },
  {
   "cell_type": "markdown",
   "id": "8e6d6445",
   "metadata": {},
   "source": [
    "Tất nhiên, trong trường hợp đơn giản này (không tính đến cổ tức hoặc các điều chỉnh\n",
    "khác), chúng có thể được tính từ phần trăm hàng ngày đã thay đổi bằng cách lấy mẫu lại\n",
    "với tổng hợp (ở đây, thành các khoảng thời gian):\n"
   ]
  },
  {
   "cell_type": "code",
   "execution_count": 73,
   "id": "6b4cf866",
   "metadata": {},
   "outputs": [],
   "source": [
    "m_rets = (1 + returns).resample('M',kind = 'period').mean() - 1"
   ]
  },
  {
   "cell_type": "code",
   "execution_count": 74,
   "id": "28eac2fe",
   "metadata": {},
   "outputs": [
    {
     "data": {
      "text/plain": [
       "Date\n",
       "2012-01    0.006125\n",
       "2012-02    0.008733\n",
       "2012-03    0.004670\n",
       "2012-04   -0.000875\n",
       "2012-05   -0.000333\n",
       "2012-06    0.000600\n",
       "2012-07    0.002249\n",
       "2012-08    0.003964\n",
       "2012-09    0.000252\n",
       "2012-10   -0.005247\n",
       "2012-11   -0.000315\n",
       "2012-12   -0.004469\n",
       "Freq: M, Name: Adj Close, dtype: float64"
      ]
     },
     "execution_count": 74,
     "metadata": {},
     "output_type": "execute_result"
    }
   ],
   "source": [
    "m_rets['2012']"
   ]
  },
  {
   "cell_type": "markdown",
   "id": "8236c042",
   "metadata": {},
   "source": [
    "# Group Transforms and Analysis\n",
    "\n",
    "Chuyển đổi nhóm và phân tích\n"
   ]
  },
  {
   "cell_type": "markdown",
   "id": "f44ea239",
   "metadata": {},
   "source": [
    "Trong Chương 9, bạn đã học những kiến thức cơ bản về tính toán thống kê nhóm và áp\n",
    "dụng các phép biến đổi của riêng bạn cho các nhóm trong tập dữ liệu.\n",
    "\n",
    "Hãy xem xét một tập hợp các danh mục cổ phiếu giả định. Đầu tiên tôi tạo ngẫu nhiên\n",
    "một không gian gồm 2000 mã:"
   ]
  },
  {
   "cell_type": "code",
   "execution_count": 75,
   "id": "9d2bfb96",
   "metadata": {},
   "outputs": [],
   "source": [
    "import random; random.seed(0)\n",
    "import string\n",
    "N = 1000\n",
    "def rands(n):\n",
    "    choices = string.ascii_uppercase\n",
    "    return ''.join([random.choice(choices) for _ in range(n)])\n",
    "tickers = np.array([rands(5) for _ in range(N)])"
   ]
  },
  {
   "cell_type": "markdown",
   "id": "5593187a",
   "metadata": {},
   "source": [
    "Sau đó, tôi tạo một DataFrame chứa 3 cột đại diện cho danh mục đầu tư giả định, nhưng\n",
    "ngẫu nhiên cho một tập hợp con các mã:\n"
   ]
  },
  {
   "cell_type": "code",
   "execution_count": 76,
   "id": "eee6e354",
   "metadata": {},
   "outputs": [],
   "source": [
    "M = 500\n",
    "df = pd.DataFrame({'Momentum' : np.random.randn(M) / 200 + 0.03,\n",
    " 'Value' : np.random.randn(M) / 200 + 0.08,\n",
    " 'ShortInterest' : np.random.randn(M) / 200 - 0.02},\n",
    " index=tickers[:M])"
   ]
  },
  {
   "cell_type": "markdown",
   "id": "7005c554",
   "metadata": {},
   "source": [
    "Tiếp theo, hãy tạo phân loại ngành ngẫu nhiên cho các mã. Để đơn giản hóa mọi thứ, tôi\n",
    "sẽ chỉ giữ nó cho 2 ngành, lưu trữ ánh xạ trong một Series:"
   ]
  },
  {
   "cell_type": "code",
   "execution_count": 77,
   "id": "3540ef5c",
   "metadata": {},
   "outputs": [],
   "source": [
    "ind_names = np.array(['FINANCIAL', 'TECH'])\n",
    "sampler = np.random.randint(0, len(ind_names), N)\n",
    "industries = pd.Series(ind_names[sampler], index=tickers,\n",
    "name='industry')\n"
   ]
  },
  {
   "cell_type": "markdown",
   "id": "7c274ea3",
   "metadata": {},
   "source": [
    "Giờ đây, chúng tôi có thể nhóm theo ngành và thực hiện tổng hợp và chuyển đổi nhóm:"
   ]
  },
  {
   "cell_type": "code",
   "execution_count": 78,
   "id": "dafb8b53",
   "metadata": {},
   "outputs": [],
   "source": [
    "by_industry = df.groupby(industries)"
   ]
  },
  {
   "cell_type": "code",
   "execution_count": 79,
   "id": "6f43b493",
   "metadata": {},
   "outputs": [
    {
     "data": {
      "text/html": [
       "<div>\n",
       "<style scoped>\n",
       "    .dataframe tbody tr th:only-of-type {\n",
       "        vertical-align: middle;\n",
       "    }\n",
       "\n",
       "    .dataframe tbody tr th {\n",
       "        vertical-align: top;\n",
       "    }\n",
       "\n",
       "    .dataframe thead th {\n",
       "        text-align: right;\n",
       "    }\n",
       "</style>\n",
       "<table border=\"1\" class=\"dataframe\">\n",
       "  <thead>\n",
       "    <tr style=\"text-align: right;\">\n",
       "      <th></th>\n",
       "      <th>Momentum</th>\n",
       "      <th>Value</th>\n",
       "      <th>ShortInterest</th>\n",
       "    </tr>\n",
       "    <tr>\n",
       "      <th>industry</th>\n",
       "      <th></th>\n",
       "      <th></th>\n",
       "      <th></th>\n",
       "    </tr>\n",
       "  </thead>\n",
       "  <tbody>\n",
       "    <tr>\n",
       "      <th>FINANCIAL</th>\n",
       "      <td>0.029747</td>\n",
       "      <td>0.079945</td>\n",
       "      <td>-0.019472</td>\n",
       "    </tr>\n",
       "    <tr>\n",
       "      <th>TECH</th>\n",
       "      <td>0.029781</td>\n",
       "      <td>0.080380</td>\n",
       "      <td>-0.020253</td>\n",
       "    </tr>\n",
       "  </tbody>\n",
       "</table>\n",
       "</div>"
      ],
      "text/plain": [
       "           Momentum     Value  ShortInterest\n",
       "industry                                    \n",
       "FINANCIAL  0.029747  0.079945      -0.019472\n",
       "TECH       0.029781  0.080380      -0.020253"
      ]
     },
     "execution_count": 79,
     "metadata": {},
     "output_type": "execute_result"
    }
   ],
   "source": [
    "by_industry.mean()"
   ]
  },
  {
   "cell_type": "code",
   "execution_count": 80,
   "id": "99166994",
   "metadata": {},
   "outputs": [
    {
     "data": {
      "text/html": [
       "<div>\n",
       "<style scoped>\n",
       "    .dataframe tbody tr th:only-of-type {\n",
       "        vertical-align: middle;\n",
       "    }\n",
       "\n",
       "    .dataframe tbody tr th {\n",
       "        vertical-align: top;\n",
       "    }\n",
       "\n",
       "    .dataframe thead tr th {\n",
       "        text-align: left;\n",
       "    }\n",
       "\n",
       "    .dataframe thead tr:last-of-type th {\n",
       "        text-align: right;\n",
       "    }\n",
       "</style>\n",
       "<table border=\"1\" class=\"dataframe\">\n",
       "  <thead>\n",
       "    <tr>\n",
       "      <th></th>\n",
       "      <th colspan=\"8\" halign=\"left\">Momentum</th>\n",
       "      <th colspan=\"5\" halign=\"left\">Value</th>\n",
       "      <th colspan=\"8\" halign=\"left\">ShortInterest</th>\n",
       "    </tr>\n",
       "    <tr>\n",
       "      <th></th>\n",
       "      <th>count</th>\n",
       "      <th>mean</th>\n",
       "      <th>std</th>\n",
       "      <th>min</th>\n",
       "      <th>25%</th>\n",
       "      <th>50%</th>\n",
       "      <th>75%</th>\n",
       "      <th>max</th>\n",
       "      <th>count</th>\n",
       "      <th>mean</th>\n",
       "      <th>...</th>\n",
       "      <th>75%</th>\n",
       "      <th>max</th>\n",
       "      <th>count</th>\n",
       "      <th>mean</th>\n",
       "      <th>std</th>\n",
       "      <th>min</th>\n",
       "      <th>25%</th>\n",
       "      <th>50%</th>\n",
       "      <th>75%</th>\n",
       "      <th>max</th>\n",
       "    </tr>\n",
       "    <tr>\n",
       "      <th>industry</th>\n",
       "      <th></th>\n",
       "      <th></th>\n",
       "      <th></th>\n",
       "      <th></th>\n",
       "      <th></th>\n",
       "      <th></th>\n",
       "      <th></th>\n",
       "      <th></th>\n",
       "      <th></th>\n",
       "      <th></th>\n",
       "      <th></th>\n",
       "      <th></th>\n",
       "      <th></th>\n",
       "      <th></th>\n",
       "      <th></th>\n",
       "      <th></th>\n",
       "      <th></th>\n",
       "      <th></th>\n",
       "      <th></th>\n",
       "      <th></th>\n",
       "      <th></th>\n",
       "    </tr>\n",
       "  </thead>\n",
       "  <tbody>\n",
       "    <tr>\n",
       "      <th>FINANCIAL</th>\n",
       "      <td>245.0</td>\n",
       "      <td>0.029747</td>\n",
       "      <td>0.005197</td>\n",
       "      <td>0.017282</td>\n",
       "      <td>0.026414</td>\n",
       "      <td>0.029308</td>\n",
       "      <td>0.033093</td>\n",
       "      <td>0.047588</td>\n",
       "      <td>245.0</td>\n",
       "      <td>0.079945</td>\n",
       "      <td>...</td>\n",
       "      <td>0.083147</td>\n",
       "      <td>0.091375</td>\n",
       "      <td>245.0</td>\n",
       "      <td>-0.019472</td>\n",
       "      <td>0.004947</td>\n",
       "      <td>-0.031601</td>\n",
       "      <td>-0.022887</td>\n",
       "      <td>-0.019440</td>\n",
       "      <td>-0.016036</td>\n",
       "      <td>-0.006443</td>\n",
       "    </tr>\n",
       "    <tr>\n",
       "      <th>TECH</th>\n",
       "      <td>255.0</td>\n",
       "      <td>0.029781</td>\n",
       "      <td>0.005137</td>\n",
       "      <td>0.016069</td>\n",
       "      <td>0.026437</td>\n",
       "      <td>0.029606</td>\n",
       "      <td>0.033333</td>\n",
       "      <td>0.043895</td>\n",
       "      <td>255.0</td>\n",
       "      <td>0.080380</td>\n",
       "      <td>...</td>\n",
       "      <td>0.083460</td>\n",
       "      <td>0.095978</td>\n",
       "      <td>255.0</td>\n",
       "      <td>-0.020253</td>\n",
       "      <td>0.004745</td>\n",
       "      <td>-0.033433</td>\n",
       "      <td>-0.023358</td>\n",
       "      <td>-0.020102</td>\n",
       "      <td>-0.017017</td>\n",
       "      <td>-0.005357</td>\n",
       "    </tr>\n",
       "  </tbody>\n",
       "</table>\n",
       "<p>2 rows × 24 columns</p>\n",
       "</div>"
      ],
      "text/plain": [
       "          Momentum                                                    \\\n",
       "             count      mean       std       min       25%       50%   \n",
       "industry                                                               \n",
       "FINANCIAL    245.0  0.029747  0.005197  0.017282  0.026414  0.029308   \n",
       "TECH         255.0  0.029781  0.005137  0.016069  0.026437  0.029606   \n",
       "\n",
       "                               Value            ...                      \\\n",
       "                75%       max  count      mean  ...       75%       max   \n",
       "industry                                        ...                       \n",
       "FINANCIAL  0.033093  0.047588  245.0  0.079945  ...  0.083147  0.091375   \n",
       "TECH       0.033333  0.043895  255.0  0.080380  ...  0.083460  0.095978   \n",
       "\n",
       "          ShortInterest                                                    \\\n",
       "                  count      mean       std       min       25%       50%   \n",
       "industry                                                                    \n",
       "FINANCIAL         245.0 -0.019472  0.004947 -0.031601 -0.022887 -0.019440   \n",
       "TECH              255.0 -0.020253  0.004745 -0.033433 -0.023358 -0.020102   \n",
       "\n",
       "                               \n",
       "                75%       max  \n",
       "industry                       \n",
       "FINANCIAL -0.016036 -0.006443  \n",
       "TECH      -0.017017 -0.005357  \n",
       "\n",
       "[2 rows x 24 columns]"
      ]
     },
     "execution_count": 80,
     "metadata": {},
     "output_type": "execute_result"
    }
   ],
   "source": [
    "by_industry.describe()"
   ]
  },
  {
   "cell_type": "markdown",
   "id": "0eaf6741",
   "metadata": {},
   "source": [
    "Bằng cách xác định các chức năng chuyển đổi, có thể dễ dàng chuyển đổi các danh mục\n",
    "đầu tư này theo ngành. Ví dụ, tiêu chuẩn hóa trong ngành được sử dụng rộng rãi trong\n",
    "việc xây dựng danh mục đầu tư vốn chủ sở hữu:\n"
   ]
  },
  {
   "cell_type": "code",
   "execution_count": 81,
   "id": "fd7176e8",
   "metadata": {},
   "outputs": [
    {
     "name": "stderr",
     "output_type": "stream",
     "text": [
      "C:\\Users\\ADMIN\\AppData\\Local\\Temp\\ipykernel_21440\\1492485175.py:3: FutureWarning: Not prepending group keys to the result index of transform-like apply. In the future, the group keys will be included in the index, regardless of whether the applied function returns a like-indexed object.\n",
      "To preserve the previous behavior, use\n",
      "\n",
      "\t>>> .groupby(..., group_keys=False)\n",
      "\n",
      "To adopt the future behavior and silence this warning, use \n",
      "\n",
      "\t>>> .groupby(..., group_keys=True)\n",
      "  df_stand = by_industry.apply(zscore)\n"
     ]
    }
   ],
   "source": [
    "def zscore(group):\n",
    "     return (group - group.mean()) / group.std()\n",
    "df_stand = by_industry.apply(zscore)"
   ]
  },
  {
   "cell_type": "code",
   "execution_count": 82,
   "id": "252aa045",
   "metadata": {},
   "outputs": [
    {
     "data": {
      "text/html": [
       "<div>\n",
       "<style scoped>\n",
       "    .dataframe tbody tr th:only-of-type {\n",
       "        vertical-align: middle;\n",
       "    }\n",
       "\n",
       "    .dataframe tbody tr th {\n",
       "        vertical-align: top;\n",
       "    }\n",
       "\n",
       "    .dataframe thead tr th {\n",
       "        text-align: left;\n",
       "    }\n",
       "\n",
       "    .dataframe thead tr:last-of-type th {\n",
       "        text-align: right;\n",
       "    }\n",
       "</style>\n",
       "<table border=\"1\" class=\"dataframe\">\n",
       "  <thead>\n",
       "    <tr>\n",
       "      <th></th>\n",
       "      <th colspan=\"2\" halign=\"left\">Momentum</th>\n",
       "      <th colspan=\"2\" halign=\"left\">Value</th>\n",
       "      <th colspan=\"2\" halign=\"left\">ShortInterest</th>\n",
       "    </tr>\n",
       "    <tr>\n",
       "      <th></th>\n",
       "      <th>mean</th>\n",
       "      <th>std</th>\n",
       "      <th>mean</th>\n",
       "      <th>std</th>\n",
       "      <th>mean</th>\n",
       "      <th>std</th>\n",
       "    </tr>\n",
       "    <tr>\n",
       "      <th>industry</th>\n",
       "      <th></th>\n",
       "      <th></th>\n",
       "      <th></th>\n",
       "      <th></th>\n",
       "      <th></th>\n",
       "      <th></th>\n",
       "    </tr>\n",
       "  </thead>\n",
       "  <tbody>\n",
       "    <tr>\n",
       "      <th>FINANCIAL</th>\n",
       "      <td>9.833404e-17</td>\n",
       "      <td>1.0</td>\n",
       "      <td>-3.117688e-16</td>\n",
       "      <td>1.0</td>\n",
       "      <td>3.375984e-16</td>\n",
       "      <td>1.0</td>\n",
       "    </tr>\n",
       "    <tr>\n",
       "      <th>TECH</th>\n",
       "      <td>8.577017e-17</td>\n",
       "      <td>1.0</td>\n",
       "      <td>-3.996803e-16</td>\n",
       "      <td>1.0</td>\n",
       "      <td>5.477100e-16</td>\n",
       "      <td>1.0</td>\n",
       "    </tr>\n",
       "  </tbody>\n",
       "</table>\n",
       "</div>"
      ],
      "text/plain": [
       "               Momentum              Value      ShortInterest     \n",
       "                   mean  std          mean  std          mean  std\n",
       "industry                                                          \n",
       "FINANCIAL  9.833404e-17  1.0 -3.117688e-16  1.0  3.375984e-16  1.0\n",
       "TECH       8.577017e-17  1.0 -3.996803e-16  1.0  5.477100e-16  1.0"
      ]
     },
     "execution_count": 82,
     "metadata": {},
     "output_type": "execute_result"
    }
   ],
   "source": [
    "df_stand.groupby(industries).agg(['mean', 'std'])\n"
   ]
  },
  {
   "cell_type": "markdown",
   "id": "3f0cfdfd",
   "metadata": {},
   "source": [
    "Bạn có thể xác minh rằng mỗi ngành có trung bình 0 và độ lệch chuẩn 1:"
   ]
  },
  {
   "cell_type": "code",
   "execution_count": 83,
   "id": "ff70e772",
   "metadata": {},
   "outputs": [
    {
     "data": {
      "text/html": [
       "<div>\n",
       "<style scoped>\n",
       "    .dataframe tbody tr th:only-of-type {\n",
       "        vertical-align: middle;\n",
       "    }\n",
       "\n",
       "    .dataframe tbody tr th {\n",
       "        vertical-align: top;\n",
       "    }\n",
       "\n",
       "    .dataframe thead tr th {\n",
       "        text-align: left;\n",
       "    }\n",
       "\n",
       "    .dataframe thead tr:last-of-type th {\n",
       "        text-align: right;\n",
       "    }\n",
       "</style>\n",
       "<table border=\"1\" class=\"dataframe\">\n",
       "  <thead>\n",
       "    <tr>\n",
       "      <th></th>\n",
       "      <th colspan=\"2\" halign=\"left\">Momentum</th>\n",
       "      <th colspan=\"2\" halign=\"left\">Value</th>\n",
       "      <th colspan=\"2\" halign=\"left\">ShortInterest</th>\n",
       "    </tr>\n",
       "    <tr>\n",
       "      <th></th>\n",
       "      <th>mean</th>\n",
       "      <th>std</th>\n",
       "      <th>mean</th>\n",
       "      <th>std</th>\n",
       "      <th>mean</th>\n",
       "      <th>std</th>\n",
       "    </tr>\n",
       "    <tr>\n",
       "      <th>industry</th>\n",
       "      <th></th>\n",
       "      <th></th>\n",
       "      <th></th>\n",
       "      <th></th>\n",
       "      <th></th>\n",
       "      <th></th>\n",
       "    </tr>\n",
       "  </thead>\n",
       "  <tbody>\n",
       "    <tr>\n",
       "      <th>FINANCIAL</th>\n",
       "      <td>9.833404e-17</td>\n",
       "      <td>1.0</td>\n",
       "      <td>-3.117688e-16</td>\n",
       "      <td>1.0</td>\n",
       "      <td>3.375984e-16</td>\n",
       "      <td>1.0</td>\n",
       "    </tr>\n",
       "    <tr>\n",
       "      <th>TECH</th>\n",
       "      <td>8.577017e-17</td>\n",
       "      <td>1.0</td>\n",
       "      <td>-3.996803e-16</td>\n",
       "      <td>1.0</td>\n",
       "      <td>5.477100e-16</td>\n",
       "      <td>1.0</td>\n",
       "    </tr>\n",
       "  </tbody>\n",
       "</table>\n",
       "</div>"
      ],
      "text/plain": [
       "               Momentum              Value      ShortInterest     \n",
       "                   mean  std          mean  std          mean  std\n",
       "industry                                                          \n",
       "FINANCIAL  9.833404e-17  1.0 -3.117688e-16  1.0  3.375984e-16  1.0\n",
       "TECH       8.577017e-17  1.0 -3.996803e-16  1.0  5.477100e-16  1.0"
      ]
     },
     "execution_count": 83,
     "metadata": {},
     "output_type": "execute_result"
    }
   ],
   "source": [
    "df_stand.groupby(industries).agg(['mean', 'std'])\n"
   ]
  },
  {
   "cell_type": "markdown",
   "id": "1ee762ba",
   "metadata": {},
   "source": [
    "Các loại biến đổi tích hợp khác, chẳng hạn như xếp hạng, có thể được sử dụng ngắn gọn\n",
    "hơn:\n"
   ]
  },
  {
   "cell_type": "code",
   "execution_count": 84,
   "id": "434e4b31",
   "metadata": {},
   "outputs": [],
   "source": [
    "ind_rank = by_industry.rank(ascending=False)\n"
   ]
  },
  {
   "cell_type": "code",
   "execution_count": 85,
   "id": "352ade9f",
   "metadata": {},
   "outputs": [
    {
     "data": {
      "text/html": [
       "<div>\n",
       "<style scoped>\n",
       "    .dataframe tbody tr th:only-of-type {\n",
       "        vertical-align: middle;\n",
       "    }\n",
       "\n",
       "    .dataframe tbody tr th {\n",
       "        vertical-align: top;\n",
       "    }\n",
       "\n",
       "    .dataframe thead tr th {\n",
       "        text-align: left;\n",
       "    }\n",
       "\n",
       "    .dataframe thead tr:last-of-type th {\n",
       "        text-align: right;\n",
       "    }\n",
       "</style>\n",
       "<table border=\"1\" class=\"dataframe\">\n",
       "  <thead>\n",
       "    <tr>\n",
       "      <th></th>\n",
       "      <th colspan=\"2\" halign=\"left\">Momentum</th>\n",
       "      <th colspan=\"2\" halign=\"left\">Value</th>\n",
       "      <th colspan=\"2\" halign=\"left\">ShortInterest</th>\n",
       "    </tr>\n",
       "    <tr>\n",
       "      <th></th>\n",
       "      <th>min</th>\n",
       "      <th>max</th>\n",
       "      <th>min</th>\n",
       "      <th>max</th>\n",
       "      <th>min</th>\n",
       "      <th>max</th>\n",
       "    </tr>\n",
       "    <tr>\n",
       "      <th>industry</th>\n",
       "      <th></th>\n",
       "      <th></th>\n",
       "      <th></th>\n",
       "      <th></th>\n",
       "      <th></th>\n",
       "      <th></th>\n",
       "    </tr>\n",
       "  </thead>\n",
       "  <tbody>\n",
       "    <tr>\n",
       "      <th>FINANCIAL</th>\n",
       "      <td>1.0</td>\n",
       "      <td>245.0</td>\n",
       "      <td>1.0</td>\n",
       "      <td>245.0</td>\n",
       "      <td>1.0</td>\n",
       "      <td>245.0</td>\n",
       "    </tr>\n",
       "    <tr>\n",
       "      <th>TECH</th>\n",
       "      <td>1.0</td>\n",
       "      <td>255.0</td>\n",
       "      <td>1.0</td>\n",
       "      <td>255.0</td>\n",
       "      <td>1.0</td>\n",
       "      <td>255.0</td>\n",
       "    </tr>\n",
       "  </tbody>\n",
       "</table>\n",
       "</div>"
      ],
      "text/plain": [
       "          Momentum        Value        ShortInterest       \n",
       "               min    max   min    max           min    max\n",
       "industry                                                   \n",
       "FINANCIAL      1.0  245.0   1.0  245.0           1.0  245.0\n",
       "TECH           1.0  255.0   1.0  255.0           1.0  255.0"
      ]
     },
     "execution_count": 85,
     "metadata": {},
     "output_type": "execute_result"
    }
   ],
   "source": [
    "ind_rank.groupby(industries).agg(['min', 'max'])\n"
   ]
  },
  {
   "cell_type": "markdown",
   "id": "bc311c22",
   "metadata": {},
   "source": [
    "Trong công bằng định lượng, “xếp hạng và tiêu chuẩn hóa” là một chuỗi biến đổi phổ\n",
    "biến. Bạn có thể làm điều này bằng cách xâu chuỗi rank và zs_core lại với nhau như sau:"
   ]
  },
  {
   "cell_type": "code",
   "execution_count": 86,
   "id": "ca1d5552",
   "metadata": {},
   "outputs": [
    {
     "name": "stderr",
     "output_type": "stream",
     "text": [
      "C:\\Users\\ADMIN\\AppData\\Local\\Temp\\ipykernel_21440\\3991251134.py:1: FutureWarning: Not prepending group keys to the result index of transform-like apply. In the future, the group keys will be included in the index, regardless of whether the applied function returns a like-indexed object.\n",
      "To preserve the previous behavior, use\n",
      "\n",
      "\t>>> .groupby(..., group_keys=False)\n",
      "\n",
      "To adopt the future behavior and silence this warning, use \n",
      "\n",
      "\t>>> .groupby(..., group_keys=True)\n",
      "  by_industry.apply(lambda x: zscore(x.rank()))\n"
     ]
    },
    {
     "data": {
      "text/html": [
       "<div>\n",
       "<style scoped>\n",
       "    .dataframe tbody tr th:only-of-type {\n",
       "        vertical-align: middle;\n",
       "    }\n",
       "\n",
       "    .dataframe tbody tr th {\n",
       "        vertical-align: top;\n",
       "    }\n",
       "\n",
       "    .dataframe thead th {\n",
       "        text-align: right;\n",
       "    }\n",
       "</style>\n",
       "<table border=\"1\" class=\"dataframe\">\n",
       "  <thead>\n",
       "    <tr style=\"text-align: right;\">\n",
       "      <th></th>\n",
       "      <th>Momentum</th>\n",
       "      <th>Value</th>\n",
       "      <th>ShortInterest</th>\n",
       "    </tr>\n",
       "  </thead>\n",
       "  <tbody>\n",
       "    <tr>\n",
       "      <th>MYNBI</th>\n",
       "      <td>1.288025</td>\n",
       "      <td>-1.233792</td>\n",
       "      <td>-1.328699</td>\n",
       "    </tr>\n",
       "    <tr>\n",
       "      <th>QPMZJ</th>\n",
       "      <td>-1.255828</td>\n",
       "      <td>0.070552</td>\n",
       "      <td>0.973619</td>\n",
       "    </tr>\n",
       "    <tr>\n",
       "      <th>PLSGQ</th>\n",
       "      <td>1.030061</td>\n",
       "      <td>0.790184</td>\n",
       "      <td>1.425153</td>\n",
       "    </tr>\n",
       "    <tr>\n",
       "      <th>EJEYD</th>\n",
       "      <td>0.155215</td>\n",
       "      <td>-0.084663</td>\n",
       "      <td>-0.733742</td>\n",
       "    </tr>\n",
       "    <tr>\n",
       "      <th>TZIRW</th>\n",
       "      <td>-1.368711</td>\n",
       "      <td>0.225767</td>\n",
       "      <td>1.142944</td>\n",
       "    </tr>\n",
       "    <tr>\n",
       "      <th>...</th>\n",
       "      <td>...</td>\n",
       "      <td>...</td>\n",
       "      <td>...</td>\n",
       "    </tr>\n",
       "    <tr>\n",
       "      <th>JPHKQ</th>\n",
       "      <td>-1.084652</td>\n",
       "      <td>0.379628</td>\n",
       "      <td>-1.315141</td>\n",
       "    </tr>\n",
       "    <tr>\n",
       "      <th>VACPK</th>\n",
       "      <td>-0.649079</td>\n",
       "      <td>-1.665030</td>\n",
       "      <td>0.070552</td>\n",
       "    </tr>\n",
       "    <tr>\n",
       "      <th>MHNBS</th>\n",
       "      <td>-0.776073</td>\n",
       "      <td>1.213496</td>\n",
       "      <td>-1.523926</td>\n",
       "    </tr>\n",
       "    <tr>\n",
       "      <th>YBNCI</th>\n",
       "      <td>1.058282</td>\n",
       "      <td>0.239877</td>\n",
       "      <td>1.128834</td>\n",
       "    </tr>\n",
       "    <tr>\n",
       "      <th>GXKFD</th>\n",
       "      <td>-0.310429</td>\n",
       "      <td>0.324540</td>\n",
       "      <td>-0.620859</td>\n",
       "    </tr>\n",
       "  </tbody>\n",
       "</table>\n",
       "<p>500 rows × 3 columns</p>\n",
       "</div>"
      ],
      "text/plain": [
       "       Momentum     Value  ShortInterest\n",
       "MYNBI  1.288025 -1.233792      -1.328699\n",
       "QPMZJ -1.255828  0.070552       0.973619\n",
       "PLSGQ  1.030061  0.790184       1.425153\n",
       "EJEYD  0.155215 -0.084663      -0.733742\n",
       "TZIRW -1.368711  0.225767       1.142944\n",
       "...         ...       ...            ...\n",
       "JPHKQ -1.084652  0.379628      -1.315141\n",
       "VACPK -0.649079 -1.665030       0.070552\n",
       "MHNBS -0.776073  1.213496      -1.523926\n",
       "YBNCI  1.058282  0.239877       1.128834\n",
       "GXKFD -0.310429  0.324540      -0.620859\n",
       "\n",
       "[500 rows x 3 columns]"
      ]
     },
     "execution_count": 86,
     "metadata": {},
     "output_type": "execute_result"
    }
   ],
   "source": [
    "by_industry.apply(lambda x: zscore(x.rank()))"
   ]
  },
  {
   "cell_type": "markdown",
   "id": "489f5403-4c09-43f0-beca-b2d619ea3b00",
   "metadata": {},
   "source": [
    "## 2.1 Group Factor Exposures"
   ]
  },
  {
   "cell_type": "markdown",
   "id": "310a4ef8",
   "metadata": {},
   "source": [
    "Phân tích nhân tố là một kỹ thuật trong quản lý danh mục đầu tư định lượng. Danh mục\n",
    "đầu tư nắm giữ và hiệu suất (lợi nhuận và ít hơn) được phân tách bằng cách sử dụng một\n",
    "hoặc nhiều yếu tố (ví dụ về mặt rủi ro) được biểu thị dưới dạng danh mục trọng số. Ví\n",
    "dụ: giá cổ phiếu đồng chuyển động với một điểm chuẩn (như chỉ số S&P 500) được gọi\n",
    "là phiên bản thử nghiệm của nó, một yếu tố rủi ro phổ biến. Chúng ta hãy xem xét một\n",
    "ví dụ giả định về một danh mục đầu tư được xây dựng từ 3 yếu tố được tạo sẵn (thường\n",
    "được gọi là hệ số tải) và một số trọng số.\n"
   ]
  },
  {
   "cell_type": "code",
   "execution_count": 87,
   "id": "7f31c021-8722-4b2b-a28f-f545b93c6536",
   "metadata": {},
   "outputs": [],
   "source": [
    "from numpy.random import rand\n",
    "fac1, fac2, fac3 = np.random.rand(3, 1000)"
   ]
  },
  {
   "cell_type": "code",
   "execution_count": 88,
   "id": "70d36c3c-146a-4e13-ba96-43f0e6d605e5",
   "metadata": {},
   "outputs": [],
   "source": [
    "ticker_subset = tickers.take(np.random.permutation(N)[:1000])"
   ]
  },
  {
   "cell_type": "code",
   "execution_count": 89,
   "id": "4d13ca67-5c73-4a43-984a-3e1daa46073d",
   "metadata": {},
   "outputs": [],
   "source": [
    "port = pd.Series(0.7 * fac1 - 1.2 * fac2 + 0.3 * fac3 + rand(1000),\n",
    "                 index=ticker_subset)"
   ]
  },
  {
   "cell_type": "code",
   "execution_count": 90,
   "id": "11f2aaa0-eded-4b87-930b-77c99ddbbb6b",
   "metadata": {},
   "outputs": [],
   "source": [
    "factors = pd.DataFrame({'f1': fac1, 'f2': fac2, 'f3': fac3},\n",
    "                    index=ticker_subset)"
   ]
  },
  {
   "cell_type": "markdown",
   "id": "2c53b5be-35e2-4b8e-ac49-126e84a9b885",
   "metadata": {},
   "source": [
    "Tương quan vectơ giữa mỗi yếu tố và danh mục đầu tư có thể không chỉ ra quá nhiều:"
   ]
  },
  {
   "cell_type": "code",
   "execution_count": 91,
   "id": "65b66ba6-fa71-45c8-a804-9163921a4226",
   "metadata": {},
   "outputs": [
    {
     "data": {
      "text/plain": [
       "f1    0.416542\n",
       "f2   -0.673998\n",
       "f3    0.189592\n",
       "dtype: float64"
      ]
     },
     "execution_count": 91,
     "metadata": {},
     "output_type": "execute_result"
    }
   ],
   "source": [
    "factors.corrwith(port)"
   ]
  },
  {
   "cell_type": "markdown",
   "id": "061e727e-bc97-431e-87e6-cabcce289608",
   "metadata": {},
   "source": [
    "Cách tiêu chuẩn để tính toán các yếu tố rủi ro là bằng hồi quy bình phương nhỏ nhất"
   ]
  },
  {
   "cell_type": "markdown",
   "id": "75d9f7ba-6811-42c8-876f-6320854dd78f",
   "metadata": {},
   "source": [
    "ĐOẠN CODE DƯỚI ĐÂY KHÔNG THỰC HIỆN ĐƯỢC, THAY BẰNG ĐOẠN PHÍA DƯỚI NÓ"
   ]
  },
  {
   "cell_type": "code",
   "execution_count": 92,
   "id": "a3b3a748-ea31-48a1-a701-24bdd9783301",
   "metadata": {},
   "outputs": [],
   "source": [
    "from sklearn.linear_model import LinearRegression"
   ]
  },
  {
   "cell_type": "code",
   "execution_count": 93,
   "id": "766a2b59-ebf2-4c6a-b276-41c5ebebdb2b",
   "metadata": {},
   "outputs": [],
   "source": [
    "factors_array = list(np.round(LinearRegression().fit(factors, port).coef_,6))"
   ]
  },
  {
   "cell_type": "code",
   "execution_count": 94,
   "id": "6555bf61-4e1b-4f66-8215-5080a95ee08a",
   "metadata": {},
   "outputs": [],
   "source": [
    "intercept = LinearRegression().fit( factors, port).intercept_\n",
    "\n",
    "intercept = round(intercept,6)"
   ]
  },
  {
   "cell_type": "code",
   "execution_count": 95,
   "id": "51b215de-8161-4929-92ed-91834073582f",
   "metadata": {},
   "outputs": [],
   "source": [
    "factors_array.append(intercept)\n",
    "index = ['f1','f2','f3','intercept']"
   ]
  },
  {
   "cell_type": "code",
   "execution_count": 96,
   "id": "5f4865f5-e351-4419-bc74-0fff198ddc5e",
   "metadata": {},
   "outputs": [
    {
     "data": {
      "text/plain": [
       "f1           0.700367\n",
       "f2          -1.171147\n",
       "f3           0.283820\n",
       "intercept    0.493950\n",
       "dtype: float64"
      ]
     },
     "execution_count": 96,
     "metadata": {},
     "output_type": "execute_result"
    }
   ],
   "source": [
    "lm = pd.Series(factors_array, index = index)\n",
    "lm"
   ]
  },
  {
   "cell_type": "markdown",
   "id": "e1e4f341",
   "metadata": {},
   "source": [
    "## 2.2 Decile and Quartile Analysis\n"
   ]
  },
  {
   "cell_type": "markdown",
   "id": "15468893",
   "metadata": {},
   "source": [
    "Phân tích dữ liệu dựa trên số lượng mẫu là một công cụ quan trọng khác để phân tích tài\n",
    "chính. Ví dụ: hiệu suất của danh mục cổ phiếu có thể được chia thành các phần tư (bốn\n",
    "phần có kích thước bằng nhau) dựa trên giá trên thu nhập của mỗi cổ phiếu. Sử dụngpan\n",
    "das.qcut kết hợp với chia nhóm làm cho phân tích lượng tử trở nên đơn giản một cách\n",
    "hợp lý.\n",
    "\n",
    "Ví dụ, hãy xem xét một xu hướng đơn giản sau hoặc chiến lược giao dịch chỉ số S&P 500\n",
    "thông qua quỹ giao dịch hối đoái SPY. Bạn có thể tải xuống lịch sử giá từ Yahoo!Finance:"
   ]
  },
  {
   "cell_type": "code",
   "execution_count": 123,
   "id": "13939718-dd4a-4119-b054-accc64c46e20",
   "metadata": {},
   "outputs": [],
   "source": [
    "from pandas_datareader import data as web\n",
    "data = web.DataReader('SPY','yahoo','2006-01-01')"
   ]
  },
  {
   "cell_type": "code",
   "execution_count": 124,
   "id": "d2b2575c",
   "metadata": {},
   "outputs": [
    {
     "data": {
      "text/plain": [
       "High         4251\n",
       "Low          4251\n",
       "Open         4251\n",
       "Close        4251\n",
       "Volume       4251\n",
       "Adj Close    4251\n",
       "dtype: int64"
      ]
     },
     "execution_count": 124,
     "metadata": {},
     "output_type": "execute_result"
    }
   ],
   "source": [
    "data.count()\n"
   ]
  },
  {
   "cell_type": "code",
   "execution_count": 125,
   "id": "b7294930",
   "metadata": {},
   "outputs": [
    {
     "data": {
      "text/plain": [
       "High         0\n",
       "Low          0\n",
       "Open         0\n",
       "Close        0\n",
       "Volume       0\n",
       "Adj Close    0\n",
       "dtype: int64"
      ]
     },
     "execution_count": 125,
     "metadata": {},
     "output_type": "execute_result"
    }
   ],
   "source": [
    "data.isnull().sum()"
   ]
  },
  {
   "cell_type": "markdown",
   "id": "d5a6bd84",
   "metadata": {},
   "source": [
    "Bây giờ, chúng ta sẽ tính toán lợi nhuận hàng ngày và một hàm để chuyển đổi lợi nhuận\n",
    "thành tín hiệu xu hướng được hình thành từ tổng di chuyển có độ trễ:\n"
   ]
  },
  {
   "cell_type": "code",
   "execution_count": 126,
   "id": "5790c18e",
   "metadata": {},
   "outputs": [],
   "source": [
    "px = prices['Adj Close']\n"
   ]
  },
  {
   "cell_type": "code",
   "execution_count": 127,
   "id": "ea6f330e",
   "metadata": {},
   "outputs": [],
   "source": [
    "returns = px.pct_change()"
   ]
  },
  {
   "cell_type": "code",
   "execution_count": 128,
   "id": "d0584acb",
   "metadata": {},
   "outputs": [],
   "source": [
    "def to_index(rets):\n",
    "    index = (1 + rets).cumprod()\n",
    "    first_loc = max(index.notnull().argmax() - 1, 0)\n",
    "    index.values[first_loc] = 1\n",
    "    return index\n",
    "\n",
    "def trend_signal(rets, lookback, lag):\n",
    "    signal = pd.Series.rolling(rets, lookback, min_periods=lookback - 5).sum()\n",
    "    return signal.shift(lag)\n"
   ]
  },
  {
   "cell_type": "markdown",
   "id": "cadf62cf",
   "metadata": {},
   "source": [
    "Sử dụng chức năng này, chúng ta có thể (một cách đơn giản) tạo và thử nghiệm một\n",
    "chiến lược giao dịch đưa ra tín hiệu xung lượng:"
   ]
  },
  {
   "cell_type": "code",
   "execution_count": 131,
   "id": "415f940d",
   "metadata": {},
   "outputs": [],
   "source": [
    "signal = trend_signal(returns, 100, 3)\n"
   ]
  },
  {
   "cell_type": "code",
   "execution_count": 132,
   "id": "e93e4a4c",
   "metadata": {},
   "outputs": [],
   "source": [
    "trade_friday = signal.resample('B').fillna(method='ffill')\n"
   ]
  },
  {
   "cell_type": "code",
   "execution_count": 133,
   "id": "44773033",
   "metadata": {},
   "outputs": [],
   "source": [
    "trade_rets = trade_friday.shift(1) * returns"
   ]
  },
  {
   "cell_type": "markdown",
   "id": "fb69d633",
   "metadata": {},
   "source": [
    "Sau đó, chúng tôi có thể chuyển đổi chiến lược trả về thành chỉ mục trả lại và vẽ biểu đồ\n",
    "của chúng (Hình 1):\n"
   ]
  },
  {
   "cell_type": "code",
   "execution_count": 134,
   "id": "080cdac3",
   "metadata": {},
   "outputs": [
    {
     "data": {
      "text/plain": [
       "<AxesSubplot:xlabel='Date'>"
      ]
     },
     "execution_count": 134,
     "metadata": {},
     "output_type": "execute_result"
    },
    {
     "data": {
      "image/png": "[encoded data removed]",
      "text/plain": [
       "<Figure size 720x432 with 1 Axes>"
      ]
     },
     "metadata": {
      "needs_background": "light"
     },
     "output_type": "display_data"
    }
   ],
   "source": [
    "to_index(trade_rets).plot()"
   ]
  },
  {
   "cell_type": "markdown",
   "id": "dc6e6256",
   "metadata": {},
   "source": [
    "Giả sử bạn muốn phân tách hiệu suất chiến lược thành các giai đoạn giao dịch ngày càng\n",
    "ít biến động hơn. Theo dõi độ lệch chuẩn hàng năm theo dõi một năm là một phép đo\n",
    "đơn giản về sự biến động và chúng ta có thể tính toán tỷ lệ Sharpe để đánh giá tỷ lệ phần\n",
    "thưởng trên rủi ro trong các chế độ biến động khác nhau:\n"
   ]
  },
  {
   "cell_type": "code",
   "execution_count": 135,
   "id": "dccd2804",
   "metadata": {},
   "outputs": [],
   "source": [
    "vol = pd.Series.rolling(returns, 250, min_periods=200).std() * np.sqrt(250)"
   ]
  },
  {
   "cell_type": "code",
   "execution_count": 136,
   "id": "b873cd56",
   "metadata": {},
   "outputs": [],
   "source": [
    "def sharpe(rets, ann=250):\n",
    " return rets.mean() / rets.std() * np.sqrt(ann)"
   ]
  },
  {
   "cell_type": "markdown",
   "id": "73d127e6",
   "metadata": {},
   "source": [
    "Bây giờ, phân chia vào tứ phân vị với qcut và tổng hợp sharpe chúng tôi đạt được:"
   ]
  },
  {
   "cell_type": "code",
   "execution_count": 137,
   "id": "f3f6ef20",
   "metadata": {},
   "outputs": [
    {
     "data": {
      "text/plain": [
       "Adj Close\n",
       "(0.167, 0.228]    1.093464\n",
       "(0.228, 0.268]    0.407602\n",
       "(0.268, 0.307]   -0.117905\n",
       "(0.307, 0.472]    0.621978\n",
       "Name: Adj Close, dtype: float64"
      ]
     },
     "execution_count": 137,
     "metadata": {},
     "output_type": "execute_result"
    }
   ],
   "source": [
    "trade_rets.groupby(pd.qcut(vol, 4)).agg(sharpe)"
   ]
  },
  {
   "cell_type": "markdown",
   "id": "3af65f40",
   "metadata": {},
   "source": [
    "Những kết quả này cho thấy rằng chiến lược hoạt động tốt nhất trong thời kỳ mà sự biến\n",
    "động là cao nhất."
   ]
  },
  {
   "cell_type": "markdown",
   "id": "de3e70df",
   "metadata": {},
   "source": [
    "## More Example Applications"
   ]
  },
  {
   "cell_type": "markdown",
   "id": "68a66a33",
   "metadata": {},
   "source": [
    "## 3.1 Signal Frontier Analysis\n",
    "\n",
    "Phân tích biên giới tín hiệu"
   ]
  },
  {
   "cell_type": "markdown",
   "id": "738d20d1",
   "metadata": {},
   "source": [
    "Trong phần này, tôi sẽ mô tả một danh mục đầu tư động lượng mặt cắt ngang đơn giản\n",
    "và cho thấy cách bạn có thể khám phá một mạng lưới các tham số hóa mô hình. Đầu tiên,\n",
    "tôi sẽ tải giá lịch sử cho một danh mục các cổ phiếu tài chính và công nghệ:"
   ]
  },
  {
   "cell_type": "code",
   "execution_count": 138,
   "id": "bd271740",
   "metadata": {},
   "outputs": [],
   "source": [
    "import pandas_datareader.data as web"
   ]
  },
  {
   "cell_type": "code",
   "execution_count": 140,
   "id": "6f185f9d",
   "metadata": {},
   "outputs": [],
   "source": [
    "names = ['AAPL', 'GOOG', 'MSFT', 'GS', 'MS', 'BAC', 'C'] \n"
   ]
  },
  {
   "cell_type": "code",
   "execution_count": 142,
   "id": "a9218fc6",
   "metadata": {},
   "outputs": [],
   "source": [
    "def get_px(stock, start, end):\n",
    "    return web.get_data_yahoo(stock, start, end)['Adj Close']\n",
    "px = pd.DataFrame({n: get_px(n, '1/1/2009', '6/1/2012') for n in names})\n"
   ]
  },
  {
   "cell_type": "markdown",
   "id": "3c4e4157",
   "metadata": {},
   "source": [
    "Chúng tôi có thể dễ dàng vẽ biểu đồ lợi nhuận tích lũy của mỗi cổ phiếu:\n"
   ]
  },
  {
   "cell_type": "code",
   "execution_count": 143,
   "id": "3dfc6cf6",
   "metadata": {},
   "outputs": [],
   "source": [
    "px = px.asfreq('B').fillna(method='pad')\n"
   ]
  },
  {
   "cell_type": "code",
   "execution_count": 144,
   "id": "594ff532",
   "metadata": {},
   "outputs": [],
   "source": [
    "rets = px.pct_change()\n"
   ]
  },
  {
   "cell_type": "code",
   "execution_count": 145,
   "id": "057665dc",
   "metadata": {},
   "outputs": [
    {
     "data": {
      "text/plain": [
       "<AxesSubplot:xlabel='Date'>"
      ]
     },
     "execution_count": 145,
     "metadata": {},
     "output_type": "execute_result"
    },
    {
     "data": {
      "image/png": "[encoded data removed]",
      "text/plain": [
       "<Figure size 720x432 with 1 Axes>"
      ]
     },
     "metadata": {
      "needs_background": "light"
     },
     "output_type": "display_data"
    }
   ],
   "source": [
    "((1 + rets).cumprod() - 1).plot()\n"
   ]
  },
  {
   "cell_type": "markdown",
   "id": "56ef6668",
   "metadata": {},
   "source": [
    "Đối với việc xây dựng danh mục đầu tư, chúng tôi sẽ tính toán động lượng qua một lần xem lại nhất định, sau đó\n",
    "xếp hạng theo thứ tự giảm dần và chuẩn hóa:"
   ]
  },
  {
   "cell_type": "code",
   "execution_count": 146,
   "id": "651bca11",
   "metadata": {},
   "outputs": [],
   "source": [
    "def calc_mom(price, lookback, lag):\n",
    "    mom_ret = price.shift(lag).pct_change(lookback)\n",
    "    ranks = mom_ret.rank(axis=1, ascending=False)\n",
    "    demeaned = ranks - ranks.mean(axis=1)\n",
    "    return demeaned / demeaned.std(axis=1)\n"
   ]
  },
  {
   "cell_type": "code",
   "execution_count": 147,
   "id": "f1f161d9",
   "metadata": {},
   "outputs": [],
   "source": [
    "compound = lambda x : (1 + x).prod() - 1\n",
    "daily_sr = lambda x: x.mean() / x.std()"
   ]
  },
  {
   "cell_type": "markdown",
   "id": "a9c704a5",
   "metadata": {},
   "source": [
    "GHI CHÚ:\n",
    "PHẦN CODE DƯỚI ĐÂY GẶP LỖI DO KHÔNG CÒN ĐƯỢC HỖ TRỢ (xem chi tiết ở file latex)"
   ]
  },
  {
   "cell_type": "code",
   "execution_count": 148,
   "id": "1a36a389",
   "metadata": {},
   "outputs": [],
   "source": [
    "def strat_sr(prices, lb, hold):\n",
    " # Compute portfolio weights\n",
    "    freq = '%dB' % hold\n",
    "    port = calc_mom(prices, lb, lag=1)\n",
    "    daily_rets = prices.pct_change()\n",
    "\n",
    " # Compute portfolio returns\n",
    "    port = port.shift(1).resample(freq)\n",
    "    returns = daily_rets.resample(freq)\n",
    "\n",
    "    port_rets = (port * returns).sum(axis=1)\n",
    "\n",
    "    print(type(port_rets))\n",
    "    return daily_sr(port_rets) * np.sqrt(252 / hold)"
   ]
  },
  {
   "cell_type": "markdown",
   "id": "ecd94a60",
   "metadata": {},
   "source": [
    "Khi được gọi với prices và kết hợp tham số, hàm này trả về một giá trị vô hướng:"
   ]
  },
  {
   "cell_type": "code",
   "execution_count": null,
   "id": "59e69e6d",
   "metadata": {},
   "outputs": [],
   "source": [
    "strat_sr(px, 70, 30)"
   ]
  },
  {
   "cell_type": "markdown",
   "id": "7d31694c",
   "metadata": {},
   "source": [
    "Từ đó, bạn có thể đánh giá hàm trên hoạt động trên một lưới các tham số, lưu trữ chúng\n",
    "khi bạn đi vào sự kết luận và cuối cùng đưa kết quả vào DataFrame:\n"
   ]
  },
  {
   "cell_type": "code",
   "execution_count": null,
   "id": "c9376165",
   "metadata": {},
   "outputs": [],
   "source": [
    "from collections import defaultdic\n",
    "lookbacks = range(20, 90, 5)\n",
    "holdings = range(20, 90, 5)"
   ]
  },
  {
   "cell_type": "code",
   "execution_count": null,
   "id": "ae3d6cbd",
   "metadata": {},
   "outputs": [],
   "source": [
    "for lb in lookbacks:\n",
    "    for hold in holdings:\n",
    "        dd[lb][hold] = strat_sr(px, lb, hold)\n"
   ]
  },
  {
   "cell_type": "code",
   "execution_count": null,
   "id": "a464bde9",
   "metadata": {},
   "outputs": [],
   "source": [
    "ddf = pd.DataFrame(dd)\n",
    "ddf.index.name = ’Holding Period’\n",
    "ddf.columns.name = ’Lookback Period’"
   ]
  },
  {
   "cell_type": "markdown",
   "id": "c288d4e9",
   "metadata": {},
   "source": [
    "Để trực quan hóa kết quả và có ý tưởng về những gì đang xảy ra, đây là một hàm sử\n",
    "dụng matplotlib để tạo bản đồ nhiệt với một số trang trí:\n"
   ]
  },
  {
   "cell_type": "code",
   "execution_count": null,
   "id": "2894162e",
   "metadata": {},
   "outputs": [],
   "source": [
    "import matplotlib.pyplot as plt\n",
    "def heatmap(df, cmap=plt.cm.gray_r):\n",
    "    fig = plt.figure()\n",
    "    ax = fig.add_subplot(111)\n",
    "    axim = ax.imshow(df.values, cmap=cmap, interpolation=’nearest’)\n",
    "    ax.set_xlabel(df.columns.name)\n",
    "    ax.set_xticks(np.arange(len(df.columns)))\n",
    "    ax.set_xticklabels(list(df.columns))\n",
    "    ax.set_ylabel(df.index.name)\n",
    "    ax.set_yticks(np.arange(len(df.index)))\n",
    "        ax.set_yticklabels(list(df.index))\n",
    "    plt.colorbar(axim)"
   ]
  },
  {
   "cell_type": "markdown",
   "id": "887af303",
   "metadata": {},
   "source": [
    "Gọi hàm này trên kết quả kiểm tra lại, chúng tôi nhận được:\n"
   ]
  },
  {
   "cell_type": "code",
   "execution_count": null,
   "id": "88931f02",
   "metadata": {},
   "outputs": [],
   "source": [
    "heatmap(ddf)"
   ]
  },
  {
   "cell_type": "markdown",
   "id": "aef1923e",
   "metadata": {},
   "source": [
    "GHI CHÚ: BẮT ĐẦU TỪ PHẦN CODE NÀY ĐÃ CHẠY BÌNH THƯỜNG"
   ]
  },
  {
   "cell_type": "markdown",
   "id": "7b8af7e9",
   "metadata": {},
   "source": [
    "## 3.2 Future Contract Rolling\n",
    "\n",
    "Hợp đồng trong tương lai"
   ]
  },
  {
   "cell_type": "markdown",
   "id": "c1591c34",
   "metadata": {},
   "source": [
    "Hợp đồng tương lai là một dạng hợp đồng phái sinh phổ biến; đó là một thỏa thuận để\n",
    "nhận một tài sản nhất định (chẳng hạn như dầu, vàng hoặc cổ phiếu của chỉ số FTSE\n",
    "100) vào một ngày cụ thể. Trong thực tế, mô hình hóa và giao dịch các hợp đồng tương\n",
    "lai trên cổ phiếu, tiền tệ ,hàng hóa, trái phiếu và các loại tài sản khác rất phức tạp do tính\n",
    "chất có thời hạn của mỗi hợp đồng. Ví dụ: tại bất kỳ thời điểm nào cho một loại tương\n",
    "lai (chẳng hạn như hợp đồng tương lai bạc hoặc đồng), nhiều hợp đồng với các ngày hết\n",
    "hạn có thể được giao dịch. Trong nhiều trường hợp, hợp đồng tương lai sẽ hết hạn tiếp\n",
    "theo (ở gần hợp đồng) sẽ có tính thanh khoản cao nhất (khối lượng cao nhất và chênh\n",
    "lệch giá mua-bán thấp nhất).\n",
    "\n",
    "Đối với mục đích mô hình hóa và dự báo, có thể dễ dàng hơn nhiều để làm việc với chỉ\n",
    "số hoàn vốn liên tục cho thấy lợi nhuận và thua lỗ liên quan đến việc luôn giữ hợp đồng\n",
    "gần. Chuyển đổi từ hợp đồng hết hạn sang hợp đồng tiếp theo (hoặc xa hơn) được gọi là\n",
    "rolling. Tính toán một chuỗi liên tục trong tương lai từ dữ liệu cá nhân không nhất thiết\n",
    "phải là một bài tập đơn giản và thường đòi hỏi sự hiểu biết sâu sắc hơn về thị trường và\n",
    "cách các công cụ được giao dịch. Ví dụ: trong thực tế, khi nào và bao lâu bạn sẽ giao\n",
    "dịch ra khỏi một hợp đồng sắp hết hạn và vào hợp đồng tiếp theo? Ở đây tôi mô tả một\n",
    "quá trình như vậy.\n",
    "\n",
    "Đầu tiên, tôi sẽ sử dụng giá quy mô cho quỹ giao dịch trao đổi SPY làm đại diện cho\n",
    "chỉ số S&P 500:\n"
   ]
  },
  {
   "cell_type": "code",
   "execution_count": 151,
   "id": "7b21500c",
   "metadata": {},
   "outputs": [
    {
     "data": {
      "text/plain": [
       "Date\n",
       "2017-11-21    2385.820312\n",
       "2017-11-22    2383.710175\n",
       "2017-11-24    2389.215851\n",
       "2017-11-27    2388.023224\n",
       "2017-11-28    2412.249146\n",
       "                 ...     \n",
       "2022-11-14    3951.199951\n",
       "2022-11-15    3984.899902\n",
       "2022-11-16    3954.500122\n",
       "2022-11-17    3942.399902\n",
       "2022-11-18    3960.299988\n",
       "Name: Adj Close, Length: 1258, dtype: float64"
      ]
     },
     "execution_count": 151,
     "metadata": {},
     "output_type": "execute_result"
    }
   ],
   "source": [
    "import pandas_datareader.data as web\n",
    "# Approximate price of S&P 500 index\n",
    "px = web.get_data_yahoo('SPY')['Adj Close'] * 10\n",
    "px"
   ]
  },
  {
   "cell_type": "markdown",
   "id": "2399c918",
   "metadata": {},
   "source": [
    "Bây giờ, một chút thiết lập. Tôi đã đặt một số hợp đồng tương lai và ngày hết hạn của\n",
    "S&P 500 vào một Series:"
   ]
  },
  {
   "cell_type": "code",
   "execution_count": 152,
   "id": "aabcea3f",
   "metadata": {},
   "outputs": [],
   "source": [
    "from datetime import datetime\n",
    "expiry = {'ESU2': datetime(2012, 9, 21),\n",
    "        'ESZ2': datetime(2012, 12, 21)}\n",
    "expiry = pd.Series(expiry).sort_values()"
   ]
  },
  {
   "cell_type": "markdown",
   "id": "309b3d50",
   "metadata": {},
   "source": [
    "expiry sẽ trông như thế này"
   ]
  },
  {
   "cell_type": "code",
   "execution_count": 153,
   "id": "963e52f4",
   "metadata": {},
   "outputs": [
    {
     "data": {
      "text/plain": [
       "ESU2   2012-09-21\n",
       "ESZ2   2012-12-21\n",
       "dtype: datetime64[ns]"
      ]
     },
     "execution_count": 153,
     "metadata": {},
     "output_type": "execute_result"
    }
   ],
   "source": [
    "expiry"
   ]
  },
  {
   "cell_type": "markdown",
   "id": "3a766750",
   "metadata": {},
   "source": [
    "Sau đó, tôi sử dụng Yahoo! Giá tài chính cùng với một bước đi ngẫu nhiên và một số\n",
    "nhiễu để mô phỏng hai hợp đồng trong tương lai:"
   ]
  },
  {
   "cell_type": "code",
   "execution_count": 154,
   "id": "b11e0a2c",
   "metadata": {},
   "outputs": [],
   "source": [
    "np.random.seed(12347)\n",
    "N = 200"
   ]
  },
  {
   "cell_type": "code",
   "execution_count": 156,
   "id": "619087c7",
   "metadata": {},
   "outputs": [],
   "source": [
    "walk = (np.random.randint(0, 200, size=N) - 100) * 0.25"
   ]
  },
  {
   "cell_type": "code",
   "execution_count": 157,
   "id": "ccd102a0",
   "metadata": {},
   "outputs": [],
   "source": [
    "perturb = (np.random.randint(0, 20, size=N) - 10) * 0.25"
   ]
  },
  {
   "cell_type": "code",
   "execution_count": 158,
   "id": "41ce604f",
   "metadata": {},
   "outputs": [],
   "source": [
    "walk = walk.cumsum()"
   ]
  },
  {
   "cell_type": "code",
   "execution_count": 159,
   "id": "400a1d8f",
   "metadata": {},
   "outputs": [],
   "source": [
    "rng = pd.date_range(px.index[0], periods=len(px) + N, freq='B')"
   ]
  },
  {
   "cell_type": "code",
   "execution_count": 160,
   "id": "b380c19c",
   "metadata": {},
   "outputs": [],
   "source": [
    "near = np.concatenate([px.values, px.values[-1] + walk])"
   ]
  },
  {
   "cell_type": "code",
   "execution_count": 161,
   "id": "4f9402b4",
   "metadata": {},
   "outputs": [],
   "source": [
    "far = np.concatenate([px.values, px.values[-1] + walk + perturb])"
   ]
  },
  {
   "cell_type": "code",
   "execution_count": 162,
   "id": "e38b1cce",
   "metadata": {},
   "outputs": [],
   "source": [
    "prices = pd.DataFrame({'ESU2': near, 'ESZ2': far}, index=rng)"
   ]
  },
  {
   "cell_type": "markdown",
   "id": "ba42b839",
   "metadata": {},
   "source": [
    "prices sau đó có hai chuỗi thời gian cho các hợp đồng khác nhau một lượng ngẫu nhiên:"
   ]
  },
  {
   "cell_type": "code",
   "execution_count": 163,
   "id": "bfbab07e",
   "metadata": {},
   "outputs": [
    {
     "data": {
      "text/html": [
       "<div>\n",
       "<style scoped>\n",
       "    .dataframe tbody tr th:only-of-type {\n",
       "        vertical-align: middle;\n",
       "    }\n",
       "\n",
       "    .dataframe tbody tr th {\n",
       "        vertical-align: top;\n",
       "    }\n",
       "\n",
       "    .dataframe thead th {\n",
       "        text-align: right;\n",
       "    }\n",
       "</style>\n",
       "<table border=\"1\" class=\"dataframe\">\n",
       "  <thead>\n",
       "    <tr style=\"text-align: right;\">\n",
       "      <th></th>\n",
       "      <th>ESU2</th>\n",
       "      <th>ESZ2</th>\n",
       "    </tr>\n",
       "  </thead>\n",
       "  <tbody>\n",
       "    <tr>\n",
       "      <th>2023-06-16</th>\n",
       "      <td>3889.049988</td>\n",
       "      <td>3886.549988</td>\n",
       "    </tr>\n",
       "    <tr>\n",
       "      <th>2023-06-19</th>\n",
       "      <td>3902.049988</td>\n",
       "      <td>3901.799988</td>\n",
       "    </tr>\n",
       "    <tr>\n",
       "      <th>2023-06-20</th>\n",
       "      <td>3895.049988</td>\n",
       "      <td>3894.549988</td>\n",
       "    </tr>\n",
       "    <tr>\n",
       "      <th>2023-06-21</th>\n",
       "      <td>3902.049988</td>\n",
       "      <td>3903.049988</td>\n",
       "    </tr>\n",
       "    <tr>\n",
       "      <th>2023-06-22</th>\n",
       "      <td>3898.049988</td>\n",
       "      <td>3900.299988</td>\n",
       "    </tr>\n",
       "  </tbody>\n",
       "</table>\n",
       "</div>"
      ],
      "text/plain": [
       "                   ESU2         ESZ2\n",
       "2023-06-16  3889.049988  3886.549988\n",
       "2023-06-19  3902.049988  3901.799988\n",
       "2023-06-20  3895.049988  3894.549988\n",
       "2023-06-21  3902.049988  3903.049988\n",
       "2023-06-22  3898.049988  3900.299988"
      ]
     },
     "execution_count": 163,
     "metadata": {},
     "output_type": "execute_result"
    }
   ],
   "source": [
    "prices.tail()"
   ]
  },
  {
   "cell_type": "markdown",
   "id": "416652d8",
   "metadata": {},
   "source": [
    "Một cách để nối các chuỗi thời gian với nhau thành một chuỗi liên tục là xây dựng ma\n",
    "trận trọng số. Các hợp đồng đang hoạt động sẽ có trọng số là 1 cho đến khi ngày hết hạn\n",
    "gần kề. Tại thời điểm đó, bạn phải quyết định một quy ước cuộn. Đây là một hàm tính\n",
    "toán một ma trận trọng số với phân rã tuyến tính trong một số khoảng thời gian dẫn đến\n",
    "hết hạn:\n"
   ]
  },
  {
   "cell_type": "code",
   "execution_count": 164,
   "id": "1a2ab494",
   "metadata": {},
   "outputs": [],
   "source": [
    "def get_roll_weights(start, expiry, items, roll_periods=5):\n",
    " # start : first date to compute weighting DataFrame\n",
    " # expiry : Series of ticker -> expiration dates\n",
    " # items : sequence of contract names\n",
    "    dates = pd.date_range(start, expiry[-1], freq='B')\n",
    "    weights = pd.DataFrame(np.zeros((len(dates), len(items))),\n",
    "                        index=dates, columns=items)\n",
    "    prev_date = weights.index[0]\n",
    "    for i, (item, ex_date) in enumerate(expiry.iteritems()):\n",
    "        if i < len(expiry) - 1:\n",
    "            #ix[] đã được thay bằng loc[]\n",
    "            weights.loc[prev_date:ex_date - pd.offsets.BDay(), item] = 1\n",
    "            roll_rng = pd.date_range(end=ex_date - pd.offsets.BDay(),\n",
    "                                    periods=roll_periods + 1, freq='B')\n",
    "\n",
    "            decay_weights = np.linspace(0, 1, roll_periods + 1)\n",
    "            weights.loc[roll_rng, item] = 1 - decay_weights\n",
    "            weights.loc[roll_rng, expiry.index[i + 1]] = decay_weights\n",
    "        else:\n",
    "            weights.loc[prev_date:, item] = 1\n",
    "    prev_date = ex_date\n",
    "    return weights\n"
   ]
  },
  {
   "cell_type": "markdown",
   "id": "b913733e",
   "metadata": {},
   "source": [
    "Các trọng số trông như thế này xung quanh ESU2 expiry:\n"
   ]
  },
  {
   "cell_type": "code",
   "execution_count": 167,
   "id": "de2e6edf",
   "metadata": {},
   "outputs": [
    {
     "name": "stderr",
     "output_type": "stream",
     "text": [
      "C:\\Users\\ADMIN\\AppData\\Local\\Temp\\ipykernel_21440\\3480704168.py:9: FutureWarning: iteritems is deprecated and will be removed in a future version. Use .items instead.\n",
      "  for i, (item, ex_date) in enumerate(expiry.iteritems()):\n"
     ]
    }
   ],
   "source": [
    "\n",
    "weights = get_roll_weights('6/1/2012', expiry, prices.columns)"
   ]
  },
  {
   "cell_type": "code",
   "execution_count": 169,
   "id": "a9cdcdad",
   "metadata": {},
   "outputs": [
    {
     "data": {
      "text/html": [
       "<div>\n",
       "<style scoped>\n",
       "    .dataframe tbody tr th:only-of-type {\n",
       "        vertical-align: middle;\n",
       "    }\n",
       "\n",
       "    .dataframe tbody tr th {\n",
       "        vertical-align: top;\n",
       "    }\n",
       "\n",
       "    .dataframe thead th {\n",
       "        text-align: right;\n",
       "    }\n",
       "</style>\n",
       "<table border=\"1\" class=\"dataframe\">\n",
       "  <thead>\n",
       "    <tr style=\"text-align: right;\">\n",
       "      <th></th>\n",
       "      <th>ESU2</th>\n",
       "      <th>ESZ2</th>\n",
       "    </tr>\n",
       "  </thead>\n",
       "  <tbody>\n",
       "    <tr>\n",
       "      <th>2012-09-12</th>\n",
       "      <td>1.0</td>\n",
       "      <td>1.0</td>\n",
       "    </tr>\n",
       "    <tr>\n",
       "      <th>2012-09-13</th>\n",
       "      <td>1.0</td>\n",
       "      <td>1.0</td>\n",
       "    </tr>\n",
       "    <tr>\n",
       "      <th>2012-09-14</th>\n",
       "      <td>0.8</td>\n",
       "      <td>1.0</td>\n",
       "    </tr>\n",
       "    <tr>\n",
       "      <th>2012-09-17</th>\n",
       "      <td>0.6</td>\n",
       "      <td>1.0</td>\n",
       "    </tr>\n",
       "    <tr>\n",
       "      <th>2012-09-18</th>\n",
       "      <td>0.4</td>\n",
       "      <td>1.0</td>\n",
       "    </tr>\n",
       "    <tr>\n",
       "      <th>2012-09-19</th>\n",
       "      <td>0.2</td>\n",
       "      <td>1.0</td>\n",
       "    </tr>\n",
       "    <tr>\n",
       "      <th>2012-09-20</th>\n",
       "      <td>0.0</td>\n",
       "      <td>1.0</td>\n",
       "    </tr>\n",
       "    <tr>\n",
       "      <th>2012-09-21</th>\n",
       "      <td>0.0</td>\n",
       "      <td>1.0</td>\n",
       "    </tr>\n",
       "  </tbody>\n",
       "</table>\n",
       "</div>"
      ],
      "text/plain": [
       "            ESU2  ESZ2\n",
       "2012-09-12   1.0   1.0\n",
       "2012-09-13   1.0   1.0\n",
       "2012-09-14   0.8   1.0\n",
       "2012-09-17   0.6   1.0\n",
       "2012-09-18   0.4   1.0\n",
       "2012-09-19   0.2   1.0\n",
       "2012-09-20   0.0   1.0\n",
       "2012-09-21   0.0   1.0"
      ]
     },
     "execution_count": 169,
     "metadata": {},
     "output_type": "execute_result"
    }
   ],
   "source": [
    "weights.loc['2012-09-12':'2012-09-21']\n"
   ]
  },
  {
   "cell_type": "markdown",
   "id": "35b198f5",
   "metadata": {},
   "source": [
    "Cuối cùng, lợi nhuận tương lai được chuyển nhượng chỉ là một tổng trọng số của lợi\n",
    "nhuận hợp đồng:\n"
   ]
  },
  {
   "cell_type": "code",
   "execution_count": 171,
   "id": "a9363eff",
   "metadata": {},
   "outputs": [],
   "source": [
    "rolled_returns = (prices.pct_change() * weights).sum(1)"
   ]
  },
  {
   "cell_type": "markdown",
   "id": "38f756cb",
   "metadata": {},
   "source": [
    "3.3 Rolling Correlation and Linear Regression\n",
    "\n",
    "Tương quan cuộn và hồi quy tuyến tính"
   ]
  },
  {
   "cell_type": "markdown",
   "id": "084d541e",
   "metadata": {},
   "source": [
    "Các mô hình động đóng một vai trò quan trọng trong mô hình tài chính vì chúng có\n",
    "thể được sử dụng để mô phỏng các quyết định giao dịch trong một giai đoạn lịch sử. Di\n",
    "chuyển cửa sổ và chức năng chuỗi thời gian có trọng số theo cấp số nhân là một ví dụ về\n",
    "các công cụ được sử dụng cho các mô hình động.\n",
    "\n",
    "Tương quan là một cách để xem xét sự đồng chuyển động giữa những thay đổi trong hai\n",
    "chuỗi thời gian của nội dung. Hàm rolling-cor có thể được gọi với hai chuỗi trả về để tính\n",
    "toán tương quan cửa sổ chuyển động. Đầu tiên, tôi tải một số chuỗi giá từ Yahoo!Finance\n",
    "và tính toán lợi nhuận hàng ngày:"
   ]
  },
  {
   "cell_type": "code",
   "execution_count": 172,
   "id": "4425bbab",
   "metadata": {},
   "outputs": [],
   "source": [
    "aapl = web.get_data_yahoo('AAPL', '2000-01-01')['Adj Close']"
   ]
  },
  {
   "cell_type": "code",
   "execution_count": 173,
   "id": "a1829918",
   "metadata": {},
   "outputs": [],
   "source": [
    "msft = web.get_data_yahoo('MSFT', '2000-01-01')['Adj Close']"
   ]
  },
  {
   "cell_type": "code",
   "execution_count": 174,
   "id": "6f6035f9",
   "metadata": {},
   "outputs": [],
   "source": [
    "aapl_rets = aapl.pct_change()\n"
   ]
  },
  {
   "cell_type": "code",
   "execution_count": 175,
   "id": "07cc58c6",
   "metadata": {},
   "outputs": [],
   "source": [
    "msft_rets = msft.pct_change()"
   ]
  },
  {
   "cell_type": "markdown",
   "id": "d6de3085",
   "metadata": {},
   "source": [
    "Sau đó, tôi tính toán và vẽ biểu đồ tương quan biến động trong một năm:"
   ]
  },
  {
   "cell_type": "code",
   "execution_count": 176,
   "id": "47ba074a",
   "metadata": {},
   "outputs": [
    {
     "data": {
      "text/plain": [
       "<AxesSubplot:xlabel='Date'>"
      ]
     },
     "execution_count": 176,
     "metadata": {},
     "output_type": "execute_result"
    },
    {
     "data": {
      "image/png": "[encoded data removed]",
      "text/plain": [
       "<Figure size 720x432 with 1 Axes>"
      ]
     },
     "metadata": {
      "needs_background": "light"
     },
     "output_type": "display_data"
    }
   ],
   "source": [
    "aapl_rets.rolling(250).corr(msft_rets).plot()\n"
   ]
  }
 ],
 "metadata": {
  "kernelspec": {
   "display_name": "Python 3 (ipykernel)",
   "language": "python",
   "name": "python3"
  },
  "language_info": {
   "codemirror_mode": {
    "name": "ipython",
    "version": 3
   },
   "file_extension": ".py",
   "mimetype": "text/x-python",
   "name": "python",
   "nbconvert_exporter": "python",
   "pygments_lexer": "ipython3",
   "version": "3.9.12"
  },
  "vscode": {
   "interpreter": {
    "hash": "2f155fbeb9494e5ce992090b8427abe3542dae7719d8ea0d05cb0b78608edd18"
   }
  }
 },
 "nbformat": 4,
 "nbformat_minor": 5
}
